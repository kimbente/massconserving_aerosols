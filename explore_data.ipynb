{
 "cells": [
  {
   "cell_type": "code",
   "execution_count": 37,
   "metadata": {},
   "outputs": [],
   "source": [
    "import numpy as np\n",
    "np.set_printoptions(suppress = True)\n",
    "import torch\n",
    "import argparse\n",
    "\n",
    "# import models\n",
    "# from utils import calculate_stats\n",
    "\n",
    "# conda install conda-forge::argparse"
   ]
  },
  {
   "cell_type": "code",
   "execution_count": 3,
   "metadata": {},
   "outputs": [],
   "source": [
    "# Paula's calculate_stats function\n",
    "def calculate_stats(X_train, y_train, X_test, y_test, args):\n",
    "\n",
    "    # Overlapping columns are first 24 for y_train and last 24 for X_train\n",
    "    means = np.mean(y_test[:, :24] + X_test[:, 8:], axis = 0)\n",
    "\n",
    "    X_log_eps = log_transform(X_train)\n",
    "    y_log_eps = log_transform(y_train)\n",
    "    \n",
    "    # so4 has much higher values\n",
    "    # why are these 4 and 5 not 7?\n",
    "    # These are 17, what are the others?\n",
    "    so4 = np.concatenate((X_train[:,8], X_train[:,9], X_train[:,10], X_train[:,11], X_train[:,12]), axis = 0)\n",
    "    bc = np.concatenate((X_train[:,13], X_train[:,14], X_train[:,15], X_train[:,16]), axis = 0)\n",
    "    oc = np.concatenate((X_train[:,17], X_train[:,18], X_train[:,19], X_train[:,20]), axis = 0)\n",
    "    # ORDER?!\n",
    "    du = np.concatenate((X_train[:,21], X_train[:,24], X_train[:,22], X_train[:,23]), axis = 0)\n",
    "\n",
    "    so4_mean = np.mean(so4)\n",
    "    bc_mean = np.mean(bc)\n",
    "    oc_mean = np.mean(oc)  \n",
    "    du_mean = np.mean(du) \n",
    "    \n",
    "    stats = {'xtrain_mean': np.mean(X_train, axis = 0),\n",
    "            'xtrain_std': np.std(X_train, axis = 0),\n",
    "            'ytrain_mean': np.mean(y_train, axis = 0), # this is now delta's\n",
    "            'ytrain_std': np.std(y_train, axis = 0),\n",
    "            'so4_mean': so4_mean,\n",
    "            'bc_mean': bc_mean,\n",
    "            'oc_mean': oc_mean,\n",
    "            'du_mean': du_mean,\n",
    "            'X_log_eps_mean': np.mean(X_log_eps, axis = 0),\n",
    "            'X_log_eps_std': np.std(X_log_eps, axis = 0),\n",
    "            'y_log_eps_mean': np.mean(y_log_eps, axis = 0),\n",
    "            'y_log_eps_std': np.std(y_log_eps, axis = 0),\n",
    "            'means': means # These are for test\n",
    "            }\n",
    "    \n",
    "    global mu_y\n",
    "    global si_y\n",
    "    global mu_x\n",
    "    global si_x\n",
    "    \n",
    "    mu_y = Variable(torch.Tensor(stats['ytrain_mean']), requires_grad = True).to(device)\n",
    "    si_y = Variable(torch.Tensor(stats['ytrain_std']), requires_grad = True).to(device)\n",
    "    mu_x = Variable(torch.Tensor(stats['xtrain_mean']), requires_grad = True).to(device)\n",
    "    si_x = Variable(torch.Tensor(stats['xtrain_std']), requires_grad = True).to(device)\n",
    "    return stats"
   ]
  },
  {
   "cell_type": "code",
   "execution_count": 25,
   "metadata": {},
   "outputs": [],
   "source": [
    "# define full path \n",
    "path_to_data = \"/home/kim/data/aerosols/aerosol_emulation_data/\"\n",
    "\n",
    "X_test = np.load(path_to_data + 'X_test.npy')\n",
    "y_test = np.load(path_to_data + 'y_test.npy')\n",
    "\n",
    "X_train = np.load(path_to_data + 'X_train.npy')\n",
    "y_train = np.load(path_to_data + 'y_train.npy')\n",
    "\n",
    "# Select the correct 24 columns\n",
    "X_test_24 = X_test[:, 8:]\n",
    "X_train_24 = X_train[:, 8:] \n",
    "\n",
    "y_test_24 = y_test[:, :24]\n",
    "y_train_24 = y_train[:, :24]\n",
    "\n",
    "# How much has it changes between x (at t = 0)  and y (at t = 1)\n",
    "y_delta_train_24 = y_train_24 - X_train_24\n",
    "y_delta_test_24 = y_test_24 - X_test_24"
   ]
  },
  {
   "cell_type": "code",
   "execution_count": 51,
   "metadata": {},
   "outputs": [
    {
     "name": "stdout",
     "output_type": "stream",
     "text": [
      "[    34.6611889    1508.99534109 306207.73492199 401794.78072114\n",
      "     61.04572957]\n",
      "[    34.65558446   1508.9734313  306207.68081635 401794.86232588\n",
      "     61.04574469]\n",
      "[-0.00560444 -0.02190978 -0.05410565  0.08160475  0.00001512]\n"
     ]
    }
   ],
   "source": [
    "i = 1000\n",
    "print(X_train_24[i, [0, 1, 2, 3, 4]])\n",
    "print(y_train_24[i, [0, 1, 2, 3, 4]])\n",
    "print(y_train_24[i, [0, 1, 2, 3, 4]] - X_train_24[i, [0, 1, 2, 3, 4]])"
   ]
  },
  {
   "cell_type": "code",
   "execution_count": 62,
   "metadata": {},
   "outputs": [
    {
     "name": "stdout",
     "output_type": "stream",
     "text": [
      "709607.2179026894\n",
      "732570.1984326714\n"
     ]
    }
   ],
   "source": [
    "transition_matrix = np.array([\n",
    "    [0.9, 0.025, 0.05, 0.025, 0.0],\n",
    "    [0.025, 0.9, 0.05, 0.025, 0.0],\n",
    "    [0.0, 0.025, 0.9, 0.025, 0.05],\n",
    "    [0.0, 0.025, 0.025, 0.9, 0.05],\n",
    "    [0.0, 0.025, 0.05, 0.025, 0.9]])\n",
    "\n",
    "result = transition_matrix @ X_train_24[i, [0, 1, 2, 3, 4]].reshape(-1, 1)\n",
    "\n",
    "print(X_train_24[i, [0, 1, 2, 3, 4]].sum())\n",
    "print(result.sum())"
   ]
  },
  {
   "cell_type": "code",
   "execution_count": 93,
   "metadata": {},
   "outputs": [
    {
     "name": "stdout",
     "output_type": "stream",
     "text": [
      "tensor([1.00, 1.00, 1.00, 1.00, 1.00])\n",
      "tensor([0.97, 1.00, 1.02, 1.00, 1.00])\n"
     ]
    }
   ],
   "source": [
    "tm = torch.tensor([\n",
    "    [0.9, 0.025, 0.05, 0.025, 0.0],\n",
    "    [0.025, 0.9, 0.05, 0.025, 0.0],\n",
    "    [0.0, 0.025, 0.9, 0.025, 0.05],\n",
    "    [0.0, 0.025, 0.025, 0.9, 0.05],\n",
    "    [0.05, 0.025, 0.0, 0.025, 0.9]])\n",
    "\n",
    "print(tm.sum(dim = 1))\n",
    "print(tm.sum(dim = 0))"
   ]
  },
  {
   "cell_type": "code",
   "execution_count": 96,
   "metadata": {},
   "outputs": [
    {
     "name": "stdout",
     "output_type": "stream",
     "text": [
      "tensor([   34.66,  1509.00, 306207.75, 401794.78,    61.05])\n",
      "tensor(709607.25)\n",
      "tensor([   71.97, 19060.55, 285709.03, 369310.62, 35455.07])\n",
      "tensor(709607.25)\n",
      "tensor([ 25424.18,  26714.22, 285672.62, 369311.25,  10139.27])\n",
      "tensor(717261.50)\n"
     ]
    }
   ],
   "source": [
    "torch.set_printoptions(precision = 2, sci_mode = False)\n",
    "inp = torch.tensor(X_train_24[i, [0, 1, 2, 3, 4]], dtype = torch.float32)\n",
    "\n",
    "print(inp)\n",
    "print(inp.sum())\n",
    "print(inp @ tm)\n",
    "print((inp @ tm).sum())\n",
    "print(tm @ inp)\n",
    "print((tm @ inp).sum())"
   ]
  },
  {
   "cell_type": "code",
   "execution_count": 80,
   "metadata": {},
   "outputs": [
    {
     "data": {
      "text/plain": [
       "709607.2179026894"
      ]
     },
     "execution_count": 80,
     "metadata": {},
     "output_type": "execute_result"
    }
   ],
   "source": [
    "X_train_24[i, [0, 1, 2, 3, 4]].sum()"
   ]
  },
  {
   "cell_type": "code",
   "execution_count": null,
   "metadata": {},
   "outputs": [
    {
     "data": {
      "text/plain": [
       "array([[ 0.00002747,  0.00157305,  0.41735254,  0.58086694,  0.00017999],\n",
       "       [ 0.00002747,  0.00157305,  0.41735254,  0.58086694,  0.00017999],\n",
       "       [ 0.00002747,  0.00157305,  0.41735254,  0.58086694,  0.00017999],\n",
       "       ...,\n",
       "       [-0.        ,  0.00004815,  0.97397783,  0.02546609,  0.00050793],\n",
       "       [-0.        ,  0.00004819,  0.97366943,  0.02576394,  0.00051844],\n",
       "       [ 0.        ,  0.00004828,  0.97254076,  0.02685941,  0.00055154]])"
      ]
     },
     "execution_count": 34,
     "metadata": {},
     "output_type": "execute_result"
    }
   ],
   "source": [
    "# Check\n",
    "so4_indices = [0, 1, 2, 3, 4]\n",
    "bc_indices = [5, 6, 7, 8]\n",
    "oc_indices = [9, 10, 11, 12]\n",
    "du_indices = [13, 14, 15, 16] \n",
    "# consider order swap as in summary\n",
    "# du_indices = [13, 16, 14, 15] \n",
    "\n",
    "# X_train_24[:, [0, 1, 2, 3, 4]].sum(axis = 1) - y_train_24[:, [0, 1, 2, 3, 4]].sum(axis = 1)\n",
    "X_train_24_proportions = X_train_24[:, [0, 1, 2, 3, 4]] / X_train_24[:, [0, 1, 2, 3, 4]].sum(axis = 1)[..., np.newaxis]"
   ]
  },
  {
   "cell_type": "code",
   "execution_count": null,
   "metadata": {},
   "outputs": [
    {
     "data": {
      "text/plain": [
       "array([7.00000000e+03, 2.12533646e+02, 7.18839243e-02, 1.83690460e+01,\n",
       "       0.00000000e+00, 0.00000000e+00, 0.00000000e+00, 2.15525649e-21,\n",
       "       1.29102745e+05, 2.98289010e+01, 5.85955621e+06, 3.67345229e+08,\n",
       "       1.20037845e+06, 4.62011533e-05, 1.30665184e-03, 2.09419851e-07,\n",
       "       7.53481217e-09, 1.51886712e-04, 6.19863535e-03, 6.48942320e-07,\n",
       "       2.67016086e-08, 3.80929956e-03, 2.17798216e-03, 2.91863057e-07,\n",
       "       5.05673839e-06, 1.43374012e+00, 1.41705490e+01, 1.71655660e+01,\n",
       "       9.95631738e-03, 2.82922001e-05, 1.83177483e-06, 6.29868841e-06])"
      ]
     },
     "execution_count": 35,
     "metadata": {},
     "output_type": "execute_result"
    }
   ],
   "source": [
    "# [:, 0] first value is 1000 to 106209.9375, increases monotonically\n",
    "# [:, 1] second value is 180 to 268\n",
    "# [:, 2] third column is 0 to 1 (many 1s)\n",
    "# [:, 3] fourth column is 0.95 to 40.5 (many 1s)\n",
    "# [:, 4] fifth column is 0 to 1 (mostly 0s, many 1s)\n",
    "# [:, 5] sixth column is 0 or 1 (manly 0s), nothing inbetween\n",
    "# [:, 6] seventh column is 0 to 1 (many 0s)\n",
    "# [:, 7] eighth column is very small values"
   ]
  },
  {
   "cell_type": "code",
   "execution_count": null,
   "metadata": {},
   "outputs": [],
   "source": [
    "device = torch.device(\"cuda:0\" if torch.cuda.is_available() else \"cpu\")\n",
    "\n",
    "# within args the default mode is train\n",
    "def main(args):\n",
    "    path_to_data = \"/home/kim/data/aerosols/aerosol_emulation_data/\"\n",
    "    \n",
    "    print('Loading data')    \n",
    "    X_train = np.load(path_to_data + 'X_train.npy')\n",
    "    y_train = np.load(path_to_data + 'y_train.npy')  \n",
    "    \n",
    "    if args.mode == 'train':\n",
    "    # during training select validation as test data\n",
    "        X_test = np.load(path_to_data + 'X_val.npy')\n",
    "        y_test = np.load(path_to_data + 'y_val.npy')\n",
    "    else:\n",
    "        X_test = np.load(path_to_data + 'X_test.npy')\n",
    "        y_test = np.load(path_to_data + 'y_test.npy')\n",
    "    \n",
    "\n",
    "    # Calculate tendencies (i.e. deltas)\n",
    "    # THIS IS AN OVERWRITE\n",
    "    # After this the y are deltas, not absolute values\n",
    "    y_train[:, :24] -= X_train[:, 8:]\n",
    "    y_test[:, :24] -= X_test[:, 8:]\n",
    "\n",
    "    # Calculate stats\n",
    "    # stats = calculate_stats(X_train, y_train, X_test, y_test, args)"
   ]
  }
 ],
 "metadata": {
  "kernelspec": {
   "display_name": "Python 3",
   "language": "python",
   "name": "python3"
  },
  "language_info": {
   "codemirror_mode": {
    "name": "ipython",
    "version": 3
   },
   "file_extension": ".py",
   "mimetype": "text/x-python",
   "name": "python",
   "nbconvert_exporter": "python",
   "pygments_lexer": "ipython3",
   "version": "3.9.20"
  }
 },
 "nbformat": 4,
 "nbformat_minor": 2
}
