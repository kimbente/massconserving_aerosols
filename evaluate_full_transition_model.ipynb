{
 "cells": [
  {
   "cell_type": "markdown",
   "id": "17d7030b",
   "metadata": {},
   "source": [
    "# Plot convergence"
   ]
  },
  {
   "cell_type": "code",
   "execution_count": null,
   "id": "74f3b997",
   "metadata": {},
   "outputs": [],
   "source": [
    "# Plot Losses\n",
    "plt.figure(figsize=(10, 5))\n",
    "\n",
    "# Training and validation loss\n",
    "plt.subplot(1, 2, 1)  # (rows, columns, index)\n",
    "plt.plot(results_df['epoch'], results_df['train_loss'], label='Train Loss', color='blue')\n",
    "plt.plot(results_df['epoch'], results_df['val_loss'], label='Val Loss', color='red')\n",
    "plt.xlabel('Epoch')\n",
    "plt.ylabel('Loss')\n",
    "plt.title('Training and Validation Loss')\n",
    "plt.legend()\n",
    "\n",
    "# Plot R²\n",
    "plt.subplot(1, 2, 2)  # (rows, columns, index)\n",
    "plt.plot(results_df['epoch'], results_df['train_r2'], label='Train R²', color='blue')\n",
    "plt.plot(results_df['epoch'], results_df['val_r2'], label='Val R²', color='red')\n",
    "plt.xlabel('Epoch')\n",
    "plt.ylabel('R²')\n",
    "plt.title('Training and Validation R²')\n",
    "plt.legend()\n",
    "\n",
    "# Show the plots\n",
    "plt.tight_layout()  # To ensure there's no overlap\n",
    "plt.show()\n"
   ]
  }
 ],
 "metadata": {
  "language_info": {
   "name": "python"
  }
 },
 "nbformat": 4,
 "nbformat_minor": 5
}
