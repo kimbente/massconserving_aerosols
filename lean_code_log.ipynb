{
 "cells": [
  {
   "cell_type": "code",
   "execution_count": 2,
   "metadata": {},
   "outputs": [],
   "source": [
    "import numpy as np\n",
    "import os\n",
    "\n",
    "import torch\n",
    "import torch.nn as nn\n",
    "import torch.nn.functional as F\n",
    "import torch.optim as optim\n",
    "from torch.utils.data import DataLoader, TensorDataset\n",
    "from torcheval.metrics.functional import r2_score as r2"
   ]
  },
  {
   "cell_type": "markdown",
   "metadata": {},
   "source": [
    "# Leaner code\n",
    "\n",
    "- x and y are always small cap\n",
    "- stick to order train, val, test\n",
    "- tensors when possible\n",
    "\n",
    "# Transforms\n",
    "- y we transform with arcsin\n",
    "- arcsin keep the zero and moderates large values"
   ]
  },
  {
   "cell_type": "code",
   "execution_count": 3,
   "metadata": {},
   "outputs": [],
   "source": [
    "# define full path \n",
    "path_to_data = \"/home/kim/data/aerosols/aerosol_emulation_data/\"\n",
    "\n",
    "# NP for now\n",
    "x_train = np.load(path_to_data + 'X_train.npy')\n",
    "y_train = np.load(path_to_data + 'y_train.npy')\n",
    "\n",
    "x_test = np.load(path_to_data + 'X_test.npy')\n",
    "y_test = np.load(path_to_data + 'y_test.npy')\n",
    "\n",
    "x_val = np.load(path_to_data + 'X_val.npy')\n",
    "y_val = np.load(path_to_data + 'y_val.npy')\n",
    "\n",
    "# Select the correct 24 columns\n",
    "# x train, val, test\n",
    "x_train_24 = x_train[:, 8:]\n",
    "x_val_24 = x_val[:, 8:]\n",
    "x_test_24 = x_test[:, 8:]\n",
    "\n",
    "# y train, val, test\n",
    "y_train_24 = y_train[:, :24]\n",
    "y_val_24 = y_val[:, :24]\n",
    "y_test_24 = y_test[:, :24]\n",
    "\n",
    "# How much has it changes between x (at t = 0)  and y (at t = 1)\n",
    "y_delta_train_24 = y_train_24 - x_train_24\n",
    "y_delta_val_24 = y_val_24 - x_val_24\n",
    "y_delta_test_24 = y_test_24 - x_test_24\n",
    "\n",
    "### SPECIES ###\n",
    "# Define column indices for each of the components (24 column version)\n",
    "so4_indices = [0, 1, 2, 3, 4]\n",
    "bc_indices = [5, 6, 7, 8]\n",
    "oc_indices = [9, 10, 11, 12]\n",
    "du_indices = [13, 14, 15, 16]\n",
    "\n",
    "# Define aerosol species and their corresponding indices\n",
    "species_indices = {\n",
    "    'so4': so4_indices,\n",
    "    'bc': bc_indices,\n",
    "    'oc': oc_indices,\n",
    "    'du': du_indices\n",
    "}\n",
    "\n",
    "### SPLIT ###\n",
    "data_split = ['train', 'val', 'test']\n",
    "\n",
    "# What are these indices?!\n",
    "extra_indices = [17, 18, 19, 20, 21, 22, 23] \n",
    "\n",
    "# np.set_printoptions(precision = 4, suppress = True, formatter = {'all': lambda x: f'{x:.4f}'})"
   ]
  },
  {
   "cell_type": "code",
   "execution_count": 4,
   "metadata": {},
   "outputs": [],
   "source": [
    "# Global function: writes the log-normalized tensors to the global namespace\n",
    "# X values are log-normalized per species\n",
    "def log_normalise_x_per_species(eps = 1e-5):\n",
    "    # Iterate over species\n",
    "    for species, indices in species_indices.items():\n",
    "        # Iterate over data splits (train, val, test)\n",
    "        for split in data_split:\n",
    "            # Fetch the data\n",
    "            x_split_species = globals()[f'x_{split}_24'][:, indices]\n",
    "            # Make tensor\n",
    "            x_split_species = torch.tensor(x_split_species).clone()\n",
    "\n",
    "            # STEP 1: Log\n",
    "            # Need decent size eps to avoid log(0)\n",
    "            log_split_species = torch.log(x_split_species + eps)\n",
    "            # Check for finite values (no NaN or inf)\n",
    "            assert torch.all(torch.isfinite(log_split_species)), f\"Log transform failed for {split} {species}\"\n",
    "\n",
    "            # STEP 2: Normalize\n",
    "            # Subtract mean of full species to retain differences, brackets make a difference!\n",
    "            log_norm_split_species = (log_split_species - torch.mean(log_split_species)) / torch.std(log_split_species)\n",
    "\n",
    "            # SAVE\n",
    "            globals()[f'x_{split}_{species}_log_norm'] = log_norm_split_species\n",
    "\n",
    "# Call\n",
    "log_normalise_x_per_species()"
   ]
  },
  {
   "cell_type": "code",
   "execution_count": 5,
   "metadata": {},
   "outputs": [],
   "source": [
    "def arcsinh_x_per_species(eps = 1e-5):\n",
    "    # This transformation can be easily reversed and preserved the zero\n",
    "    # Iterate over species\n",
    "    for species, indices in species_indices.items():\n",
    "        # Iterate over data splits (train, val, test)\n",
    "        for split in data_split:\n",
    "            # Fetch the data\n",
    "            x_split_species = globals()[f'x_{split}_24'][:, indices]\n",
    "            # Make tensor\n",
    "            x_split_species = torch.tensor(x_split_species).clone()\n",
    "\n",
    "            # STEP 1: Clamp negative values as these should not be allowed\n",
    "            nonneg_split_species = torch.clamp_min(x_split_species, min = 0.0)\n",
    "\n",
    "            # STEP 2: Arcsinh\n",
    "            arcsinh_norm_split_species = torch.arcsinh(nonneg_split_species)\n",
    "\n",
    "            # SAVE\n",
    "            globals()[f'x_{split}_{species}_arcsinh'] = arcsinh_norm_split_species\n",
    "\n",
    "# Call\n",
    "arcsinh_x_per_species()"
   ]
  },
  {
   "cell_type": "code",
   "execution_count": 6,
   "metadata": {},
   "outputs": [],
   "source": [
    "def arcsin_y_delta_per_species(eps = 1e-5):\n",
    "    # Iterate over species\n",
    "    for species, indices in species_indices.items():\n",
    "        # Iterate over data splits (train, val, test)\n",
    "        for split in data_split:\n",
    "            # Fetch the data\n",
    "            y_delta_split_species = globals()[f'y_delta_{split}_24'][:, indices]\n",
    "            # Make tensor\n",
    "            y_delta_split_species = torch.tensor(y_delta_split_species).clone()\n",
    "            # globals()[f'y_delta_{split}_{species}'] = y_delta_split_species\n",
    "\n",
    "            # STEP 1: scale to unit var\n",
    "            y_delta_split_species_unitvar = y_delta_split_species / torch.std(y_delta_split_species)\n",
    "            # globals()[f'y_delta_{split}_{species}_unitvar'] = y_delta_split_species_unitvar\n",
    "\n",
    "            # export std to global namespace for renormalization\n",
    "            globals()[f'std_y_delta_{split}_{species}'] = torch.std(y_delta_split_species)\n",
    "\n",
    "            # STEP 2: Arcsin\n",
    "            arcsinh_y_delta_split_species = torch.asinh(y_delta_split_species)\n",
    "            arcsinh_unitvar_y_delta_split_species = torch.asinh(y_delta_split_species_unitvar)\n",
    "\n",
    "            # SAVE both options\n",
    "            globals()[f'y_delta_{split}_{species}_arcsinh'] = arcsinh_y_delta_split_species\n",
    "            globals()[f'y_delta_{split}_{species}_arcsinh_unitvar'] = arcsinh_unitvar_y_delta_split_species\n",
    "\n",
    "# Call\n",
    "arcsin_y_delta_per_species()"
   ]
  },
  {
   "cell_type": "code",
   "execution_count": 7,
   "metadata": {},
   "outputs": [],
   "source": [
    "def n_random_rows(x, n = 5000):\n",
    "    \"\"\"Returns n random rows from x\"\"\"\n",
    "    # Default is 5000\n",
    "    indices = np.random.choice(x.shape[0], n, replace = False)\n",
    "    return x[indices]\n",
    "\n",
    "def n_random_row_incides(x, n = 5000):\n",
    "    \"\"\"Returns n random rows from x\"\"\"\n",
    "    # Default is 5000\n",
    "    indices = np.random.choice(x.shape[0], n, replace = False)\n",
    "    return indices"
   ]
  },
  {
   "cell_type": "markdown",
   "metadata": {},
   "source": [
    "# So4 model is the crux\n",
    "\n",
    "- needs transformation\n",
    "- the other have outlier values\n",
    "- Dividing by the standard deviation (or performing Z-score normalization) does not impact the property of the data summing to zero\n",
    "\n",
    "- We can apply sinh() to transform back into OG units\n",
    "- arcsinh transformation: zero is zero"
   ]
  },
  {
   "cell_type": "code",
   "execution_count": 9,
   "metadata": {},
   "outputs": [
    {
     "ename": "KeyError",
     "evalue": "'x_train_so4'",
     "output_type": "error",
     "traceback": [
      "\u001b[0;31m---------------------------------------------------------------------------\u001b[0m",
      "\u001b[0;31mKeyError\u001b[0m                                  Traceback (most recent call last)",
      "Cell \u001b[0;32mIn[9], line 12\u001b[0m\n\u001b[1;32m      9\u001b[0m split \u001b[38;5;241m=\u001b[39m \u001b[38;5;124m'\u001b[39m\u001b[38;5;124mtrain\u001b[39m\u001b[38;5;124m'\u001b[39m\n\u001b[1;32m     11\u001b[0m x_data \u001b[38;5;241m=\u001b[39m \u001b[38;5;28mglobals\u001b[39m()[\u001b[38;5;124mf\u001b[39m\u001b[38;5;124m'\u001b[39m\u001b[38;5;124mx_\u001b[39m\u001b[38;5;132;01m{\u001b[39;00msplit\u001b[38;5;132;01m}\u001b[39;00m\u001b[38;5;124m_\u001b[39m\u001b[38;5;132;01m{\u001b[39;00mspecies\u001b[38;5;132;01m}\u001b[39;00m\u001b[38;5;124m_log_norm\u001b[39m\u001b[38;5;124m'\u001b[39m][row_indices]  \u001b[38;5;66;03m# Shape: (N, 5)\u001b[39;00m\n\u001b[0;32m---> 12\u001b[0m x_data \u001b[38;5;241m=\u001b[39m \u001b[38;5;28;43mglobals\u001b[39;49m\u001b[43m(\u001b[49m\u001b[43m)\u001b[49m\u001b[43m[\u001b[49m\u001b[38;5;124;43mf\u001b[39;49m\u001b[38;5;124;43m'\u001b[39;49m\u001b[38;5;124;43mx_\u001b[39;49m\u001b[38;5;132;43;01m{\u001b[39;49;00m\u001b[43msplit\u001b[49m\u001b[38;5;132;43;01m}\u001b[39;49;00m\u001b[38;5;124;43m_\u001b[39;49m\u001b[38;5;132;43;01m{\u001b[39;49;00m\u001b[43mspecies\u001b[49m\u001b[38;5;132;43;01m}\u001b[39;49;00m\u001b[38;5;124;43m'\u001b[39;49m\u001b[43m]\u001b[49m[row_indices]  \u001b[38;5;66;03m# Shape: (N, 5)\u001b[39;00m\n\u001b[1;32m     13\u001b[0m \u001b[38;5;66;03m# y_data = globals()[f'y_delta_{split}_{species}_arcsinh'][row_indices]  # Shape: (N, 5)\u001b[39;00m\n\u001b[1;32m     14\u001b[0m \u001b[38;5;66;03m# Untransformed does not work for So4\u001b[39;00m\n\u001b[1;32m     15\u001b[0m \u001b[38;5;66;03m# The\u001b[39;00m\n\u001b[1;32m     16\u001b[0m \u001b[38;5;66;03m# y_data = globals()[f'y_delta_{split}_{species}'][row_indices]\u001b[39;00m\n\u001b[1;32m     17\u001b[0m y_data \u001b[38;5;241m=\u001b[39m torch\u001b[38;5;241m.\u001b[39marcsin(\u001b[38;5;28mglobals\u001b[39m()[\u001b[38;5;124mf\u001b[39m\u001b[38;5;124m'\u001b[39m\u001b[38;5;124my_delta_\u001b[39m\u001b[38;5;132;01m{\u001b[39;00msplit\u001b[38;5;132;01m}\u001b[39;00m\u001b[38;5;124m_\u001b[39m\u001b[38;5;132;01m{\u001b[39;00mspecies\u001b[38;5;132;01m}\u001b[39;00m\u001b[38;5;124m_arcsinh_unitvar\u001b[39m\u001b[38;5;124m'\u001b[39m][row_indices])\n",
      "\u001b[0;31mKeyError\u001b[0m: 'x_train_so4'"
     ]
    },
    {
     "data": {
      "text/plain": [
       "<Figure size 800x600 with 0 Axes>"
      ]
     },
     "metadata": {},
     "output_type": "display_data"
    }
   ],
   "source": [
    "import matplotlib.pyplot as plt\n",
    "import numpy as np\n",
    "\n",
    "row_indices = n_random_row_incides(x_train_so4_log_norm)\n",
    "\n",
    "plt.figure(figsize=(8, 6))\n",
    "\n",
    "for species in species_indices.keys():  # Iterate over all species\n",
    "    split = 'train'\n",
    "    \n",
    "    x_data = globals()[f'x_{split}_{species}_log_norm'][row_indices]  # Shape: (N, 5)\n",
    "    x_data = globals()[f'x_{split}_{species}'][row_indices]  # Shape: (N, 5)\n",
    "    # y_data = globals()[f'y_delta_{split}_{species}_arcsinh'][row_indices]  # Shape: (N, 5)\n",
    "    # Untransformed does not work for So4\n",
    "    # The\n",
    "    # y_data = globals()[f'y_delta_{split}_{species}'][row_indices]\n",
    "    y_data = torch.arcsin(globals()[f'y_delta_{split}_{species}_arcsinh_unitvar'][row_indices])\n",
    "\n",
    "    num_columns = x_data.shape[1]  # Should be 5\n",
    "    colors = ['blue', 'green', 'red', 'purple', 'orange']\n",
    "\n",
    "    for i in range(num_columns):\n",
    "        plt.scatter(\n",
    "            x_data[:, i],  \n",
    "            y_data[:, i],  # Use the corresponding column in y_data\n",
    "            alpha = 0.1,\n",
    "            color = colors[i],\n",
    "            label = f'{species} - Feature {i+1}'\n",
    "        )\n",
    "\n",
    "    plt.xlabel('log_norm(x_train)')\n",
    "    plt.ylabel('arcsin(y_delta_train)')\n",
    "    plt.title(f'arcsin(y_delta_train) over log_norm(x_train) for {species}')\n",
    "    plt.legend()\n",
    "    plt.grid(True, alpha = 0.1)\n",
    "\n",
    "    plt.show()"
   ]
  },
  {
   "cell_type": "code",
   "execution_count": 1,
   "metadata": {},
   "outputs": [
    {
     "ename": "NameError",
     "evalue": "name 'n_random_row_incides' is not defined",
     "output_type": "error",
     "traceback": [
      "\u001b[0;31m---------------------------------------------------------------------------\u001b[0m",
      "\u001b[0;31mNameError\u001b[0m                                 Traceback (most recent call last)",
      "Cell \u001b[0;32mIn[1], line 4\u001b[0m\n\u001b[1;32m      1\u001b[0m \u001b[38;5;28;01mimport\u001b[39;00m\u001b[38;5;250m \u001b[39m\u001b[38;5;21;01mmatplotlib\u001b[39;00m\u001b[38;5;21;01m.\u001b[39;00m\u001b[38;5;21;01mpyplot\u001b[39;00m\u001b[38;5;250m \u001b[39m\u001b[38;5;28;01mas\u001b[39;00m\u001b[38;5;250m \u001b[39m\u001b[38;5;21;01mplt\u001b[39;00m\n\u001b[1;32m      2\u001b[0m \u001b[38;5;28;01mimport\u001b[39;00m\u001b[38;5;250m \u001b[39m\u001b[38;5;21;01mnumpy\u001b[39;00m\u001b[38;5;250m \u001b[39m\u001b[38;5;28;01mas\u001b[39;00m\u001b[38;5;250m \u001b[39m\u001b[38;5;21;01mnp\u001b[39;00m\n\u001b[0;32m----> 4\u001b[0m row_indices \u001b[38;5;241m=\u001b[39m \u001b[43mn_random_row_incides\u001b[49m(x_train_so4_log_norm)\n\u001b[1;32m      6\u001b[0m plt\u001b[38;5;241m.\u001b[39mfigure(figsize\u001b[38;5;241m=\u001b[39m(\u001b[38;5;241m8\u001b[39m, \u001b[38;5;241m6\u001b[39m))\n\u001b[1;32m      8\u001b[0m \u001b[38;5;28;01mfor\u001b[39;00m species \u001b[38;5;129;01min\u001b[39;00m species_indices\u001b[38;5;241m.\u001b[39mkeys():  \u001b[38;5;66;03m# Iterate over all species\u001b[39;00m\n",
      "\u001b[0;31mNameError\u001b[0m: name 'n_random_row_incides' is not defined"
     ]
    }
   ],
   "source": [
    "import matplotlib.pyplot as plt\n",
    "import numpy as np\n",
    "\n",
    "row_indices = n_random_row_incides(x_train_so4_log_norm)\n",
    "\n",
    "plt.figure(figsize=(8, 6))\n",
    "\n",
    "for species in species_indices.keys():  # Iterate over all species\n",
    "    split = 'train'\n",
    "    \n",
    "    x_data = globals()[f'x_{split}_{species}_arcsinh_unitvar'][row_indices]  # Shape: (N, 5) for so4\n",
    "    y_data = globals()[f'y_delta_{split}_{species}_arcsinh_unitvar'][row_indices]\n",
    "\n",
    "    num_columns = x_data.shape[1]  # Should be 5\n",
    "    colors = ['blue', 'green', 'red', 'purple', 'orange']\n",
    "\n",
    "    for i in range(num_columns):\n",
    "        plt.scatter(\n",
    "            x_data[:, i],  \n",
    "            y_data[:, i],  # Use the corresponding column in y_data\n",
    "            alpha = 0.1,\n",
    "            color = colors[i],\n",
    "            label = f'{species} - Feature {i+1}'\n",
    "        )\n",
    "\n",
    "    plt.xlabel('log_norm(x_train)')\n",
    "    plt.ylabel('arcsin(y_delta_train)')\n",
    "    plt.title(f'arcsin(y_delta_train) over log_norm(x_train) for {species}')\n",
    "    plt.legend()\n",
    "    plt.grid(True, alpha = 0.1)\n",
    "\n",
    "    plt.show()"
   ]
  },
  {
   "cell_type": "code",
   "execution_count": null,
   "metadata": {},
   "outputs": [],
   "source": [
    "# Conserving means mean zero\n",
    "# Benefit of softmax output is just that we know the mean value"
   ]
  },
  {
   "cell_type": "code",
   "execution_count": 164,
   "metadata": {},
   "outputs": [
    {
     "name": "stdout",
     "output_type": "stream",
     "text": [
      "Softmax Output: tensor([0.0486, 0.0581, 0.7120, 0.0655, 0.1158], dtype=torch.float64)\n",
      "Conservative Vector: tensor([ 0.4713,  0.1130, -0.3004, -0.0759, -0.2081], dtype=torch.float64)\n",
      "tensor(2.2204e-17, dtype=torch.float64)\n"
     ]
    },
    {
     "data": {
      "text/plain": [
       "tensor(0.0051, dtype=torch.float64)"
      ]
     },
     "execution_count": 164,
     "metadata": {},
     "output_type": "execute_result"
    }
   ],
   "source": [
    "# Generate random logits\n",
    "logits = torch.randn(5)  # Example with 5 classes\n",
    "\n",
    "# Apply softmax to get probabilities\n",
    "softmax_output = torch.softmax(logits, dim = 0, dtype = torch.float64)\n",
    "print(\"Softmax Output:\", softmax_output)\n",
    "\n",
    "softmax_output = torch.arcsinh(torch.rand(5, dtype = torch.float64))\n",
    "\n",
    "# Mean is ALWAYS 1/N\n",
    "# Mean shift\n",
    "# Precision error\n",
    "# conservative_vector = softmax_output - (1 / len(softmax_output))\n",
    "conservative_vector = softmax_output - (torch.mean(softmax_output))\n",
    "print(\"Conservative Vector:\", conservative_vector)\n",
    "\n",
    "print(conservative_vector.mean())\n",
    "torch.sinh(torch.sinh(conservative_vector)).mean()"
   ]
  },
  {
   "cell_type": "markdown",
   "metadata": {},
   "source": [
    ".... Transformations kill the constraints\n",
    "\n",
    "# Back to transition matrix\n",
    "\n",
    "- take absolute and relative inputs"
   ]
  },
  {
   "cell_type": "code",
   "execution_count": 220,
   "metadata": {},
   "outputs": [
    {
     "name": "stdout",
     "output_type": "stream",
     "text": [
      "tensor([[0.9734, 0.0068, 0.0060, 0.0065, 0.0072],\n",
      "        [0.0070, 0.9754, 0.0058, 0.0064, 0.0055],\n",
      "        [0.0062, 0.0053, 0.9764, 0.0060, 0.0061],\n",
      "        [0.0067, 0.0058, 0.0088, 0.9721, 0.0066],\n",
      "        [0.0057, 0.0062, 0.0067, 0.0056, 0.9758]], dtype=torch.float64)\n"
     ]
    }
   ],
   "source": [
    "import torch\n",
    "\n",
    "# Random logits with a bias toward staying in the same class\n",
    "logits = torch.randn(5, 5) * 0.1  # Small values to encourage staying in the same class\n",
    "\n",
    "# Adding a strong bias along the diagonal (encouraging self-transitions)\n",
    "for i in range(5):\n",
    "    logits[i, i] += 5.0  # Bias for staying in the same class\n",
    "\n",
    "# Apply softmax to normalize and get probabilities\n",
    "transition_matrix = torch.softmax(logits, dim = 1 , dtype = torch.float64)\n",
    "\n",
    "print(transition_matrix)"
   ]
  },
  {
   "cell_type": "code",
   "execution_count": 225,
   "metadata": {},
   "outputs": [
    {
     "name": "stdout",
     "output_type": "stream",
     "text": [
      "tensor([ 1.,  7., 13., 19., 25.], dtype=torch.float64)\n"
     ]
    },
    {
     "data": {
      "text/plain": [
       "tensor(65., dtype=torch.float64)"
      ]
     },
     "execution_count": 225,
     "metadata": {},
     "output_type": "execute_result"
    }
   ],
   "source": [
    "# x is a vector of masses\n",
    "x = torch.linspace(1, 25, 5, dtype = torch.float64).reshape(5)\n",
    "print(x)\n",
    "x.sum()"
   ]
  },
  {
   "cell_type": "code",
   "execution_count": 232,
   "metadata": {},
   "outputs": [],
   "source": [
    "x_batched = torch.linspace(1, 25, 5 * 7, dtype = torch.float64).reshape(7, 5)\n",
    "\n",
    "x_batched\n",
    "x_batched_norm = x_batched / x_batched.sum(axis = -1).unsqueeze(-1)"
   ]
  },
  {
   "cell_type": "code",
   "execution_count": 235,
   "metadata": {},
   "outputs": [
    {
     "data": {
      "text/plain": [
       "torch.Size([7, 10])"
      ]
     },
     "execution_count": 235,
     "metadata": {},
     "output_type": "execute_result"
    }
   ],
   "source": [
    "x_batched_norm\n",
    "\n",
    "torch.cat((x_batched, x_batched_norm), dim = -1).shape"
   ]
  },
  {
   "cell_type": "code",
   "execution_count": 226,
   "metadata": {},
   "outputs": [],
   "source": [
    "# Transition matrix without self-transitions\n",
    "T_no_diag = transition_matrix - torch.eye(transition_matrix.size(0))\n",
    "\n",
    "# Multiply the current state by the transition matrix without diagonal\n",
    "deltas1 = torch.matmul(T_no_diag, x)\n",
    "\n",
    "deltas2 = torch.matmul(transition_matrix, x) - x"
   ]
  },
  {
   "cell_type": "code",
   "execution_count": 227,
   "metadata": {},
   "outputs": [
    {
     "data": {
      "text/plain": [
       "tensor(65.0086, dtype=torch.float64)"
      ]
     },
     "execution_count": 227,
     "metadata": {},
     "output_type": "execute_result"
    }
   ],
   "source": [
    "torch.matmul(transition_matrix, x).sum()"
   ]
  },
  {
   "cell_type": "code",
   "execution_count": 228,
   "metadata": {},
   "outputs": [
    {
     "data": {
      "text/plain": [
       "tensor(0.0017, dtype=torch.float64)"
      ]
     },
     "execution_count": 228,
     "metadata": {},
     "output_type": "execute_result"
    }
   ],
   "source": [
    "torch.mean(deltas1)"
   ]
  },
  {
   "cell_type": "code",
   "execution_count": null,
   "metadata": {},
   "outputs": [
    {
     "name": "stdout",
     "output_type": "stream",
     "text": [
      "tensor([ 0.4043,  0.1679,  0.0022, -0.2037, -0.3621], dtype=torch.float64)\n",
      "tensor([ 0.4043,  0.1679,  0.0022, -0.2037, -0.3621], dtype=torch.float64)\n"
     ]
    },
    {
     "data": {
      "text/plain": [
       "tensor(0.0086, dtype=torch.float64)"
      ]
     },
     "execution_count": 229,
     "metadata": {},
     "output_type": "execute_result"
    }
   ],
   "source": [
    "print(deltas1)\n",
    "\n",
    "print(deltas2)\n",
    "deltas2.sum(-1).sum()"
   ]
  },
  {
   "cell_type": "code",
   "execution_count": 398,
   "metadata": {},
   "outputs": [],
   "source": [
    "class TransitionMatrix(nn.Module):\n",
    "    def __init__(self, in_features, out_features, width, depth = 2, bias = 5.0):\n",
    "        super(TransitionMatrix, self).__init__()\n",
    "        # this is the self transition bias, added to the logits (prior knowledge), high val\n",
    "        self.bias = bias\n",
    "        self.out_features = out_features\n",
    "        # define this once and reuse\n",
    "        self.transition_identity = torch.eye(out_features).unsqueeze(0)\n",
    "        self.eps = 1e-8\n",
    "\n",
    "        # the first layer takes in_features * 2 as input, because we are concatenating the inputthe raltive inputs\n",
    "        self.fc_in = nn.Linear(in_features = in_features * 2, out_features = width)\n",
    "\n",
    "        self.hidden_layers = nn.ModuleList()\n",
    "        for _ in range(depth -1):\n",
    "            self.hidden_layers.append(nn.ReLU())\n",
    "            self.hidden_layers.append(nn.Linear(in_features = width, out_features = width))\n",
    "            self.hidden_layers.append(nn.ReLU())\n",
    "\n",
    "        # for the transition matrix, we want to have a square matrix, 1 for scale factor\n",
    "        self.fc_out = nn.Linear(in_features = width, out_features = (out_features * out_features) + 1)\n",
    "\n",
    "        # Set all model parameters to double precision\n",
    "        self.to(torch.float64)\n",
    "\n",
    "    def forward(self, x):\n",
    "        # x is shape(batch_size, in_features)\n",
    "        # ensure double\n",
    "        x = x.to(torch.float64)\n",
    "        \n",
    "        # Normalise the input to relative values (sum to 1), clamp to avoid div by zero\n",
    "        x_relative = x / torch.clamp_min(x.sum(axis = -1), self.eps).unsqueeze(-1)\n",
    "\n",
    "        # Concatenate the input with the relative input and pass into the first layer\n",
    "        # shape(batch_size, in_features * 2)\n",
    "        state = self.fc_in(torch.cat((x, x_relative), dim = -1))\n",
    "\n",
    "        for layer in self.hidden_layers:\n",
    "            state = layer(state)\n",
    "\n",
    "        state = self.fc_out(state)\n",
    "\n",
    "        # Divide the output into logits and scale factor\n",
    "        logits_raw, scale_factor = state[:, :-1], state[:, -1]\n",
    "\n",
    "        # Reshape to get (batch_size, out_features, out_features)\n",
    "        logits = logits_raw.view(-1, self.out_features, self.out_features)\n",
    "\n",
    "        if torch.isnan(logits).any():\n",
    "            print(\"NaN detected at logits!\")\n",
    "        if torch.isinf(logits).any():\n",
    "            print(\"Inf detected at logits!\")\n",
    "\n",
    "        # Add the bias to the diagonal (self transitions) with in-place operation\n",
    "        logits.diagonal(dim1 = -2, dim2 = -1).add_(self.bias)\n",
    "\n",
    "        # Apply softmax across each row so that columns (last dim) add to 1\n",
    "        # rows add to 1 (From : To): 100% of the source are redistributed\n",
    "        # Variance of a softmax is 1/N, variance of a arcsinh unit std is 1\n",
    "        transition_matrix = F.softmax(logits, dim = -1)\n",
    "\n",
    "        # Transition matrix without self-transitions\n",
    "        # Repeat for bacth_size\n",
    "        transition_matrix_no_diag = transition_matrix - self.transition_identity.repeat(transition_matrix.shape[0], 1, 1)\n",
    "\n",
    "        # Multiply the input by the transition matrix without diagonal: bmm or matmul work\n",
    "        deltas = torch.matmul(transition_matrix_no_diag, x.unsqueeze(-1)).squeeze(-1)\n",
    "\n",
    "        # reshape scale factor to (batch_size, 1)\n",
    "        # Scale of the estimated scale factor to account for smaller variance in softmax output\n",
    "        scaled_deltas = deltas * (scale_factor.unsqueeze(-1) * self.out_features)\n",
    "\n",
    "        # correct delta numerical precision issue, but comp overhead\n",
    "        corrected_scaled_deltas = scaled_deltas - scaled_deltas.mean(dim = (-1), keepdim = True)\n",
    "        # print((deltas.mean(dim = (-1), keepdim = True)).shape)\n",
    "\n",
    "        # return (batch_size, out_features)\n",
    "        return corrected_scaled_deltas"
   ]
  },
  {
   "cell_type": "code",
   "execution_count": 394,
   "metadata": {},
   "outputs": [
    {
     "name": "stdout",
     "output_type": "stream",
     "text": [
      "5 5\n"
     ]
    },
    {
     "data": {
      "text/plain": [
       "tensor([ 1.3878e-17,  5.5511e-17, -8.3267e-17, -2.7756e-17,  2.7756e-17,\n",
       "         2.7756e-17,  5.5511e-17, -6.9389e-18,  0.0000e+00,  0.0000e+00],\n",
       "       dtype=torch.float64, grad_fn=<SumBackward1>)"
      ]
     },
     "execution_count": 394,
     "metadata": {},
     "output_type": "execute_result"
    }
   ],
   "source": [
    "row_indices = n_random_row_incides(x_train_so4_arcsinh, 10)\n",
    "\n",
    "in_feat = x_train_so4_arcsinh[row_indices].shape[-1]\n",
    "out_feat = y_delta_train_so4_arcsinh_unitvar[row_indices].shape[-1]\n",
    "\n",
    "print(in_feat, out_feat)\n",
    "\n",
    "model = TransitionMatrix(in_features = in_feat, out_features = in_feat, width = 2)\n",
    "\n",
    "out = model(x_train_so4_arcsinh[row_indices])\n",
    "out.sum(-1)"
   ]
  },
  {
   "cell_type": "code",
   "execution_count": 399,
   "metadata": {},
   "outputs": [
    {
     "name": "stdout",
     "output_type": "stream",
     "text": [
      "Epoch 0, Batch 0, Training MSE Loss (transf.): 1.8950\n",
      "Validation R2 Score on delta sample in transformed space:\n",
      "-0.1144\n",
      "Validation R2 Score on delta sample in og space:\n",
      "-1463097.9175\n",
      "Validation MSE on delta sample in og space:\n",
      "12527115089628262400.0000\n",
      "Epoch 0, Batch 1000, Training MSE Loss (transf.): 0.0462\n",
      "Epoch 0, Batch 2000, Training MSE Loss (transf.): 0.0183\n",
      "Epoch 0, Batch 3000, Training MSE Loss (transf.): 0.0314\n",
      "Epoch 0, Batch 4000, Training MSE Loss (transf.): 0.0262\n",
      "Epoch 0, Batch 5000, Training MSE Loss (transf.): 0.0344\n",
      "Validation R2 Score on delta sample in transformed space:\n",
      "-0.1144\n",
      "Validation R2 Score on delta sample in og space:\n",
      "0.1658\n",
      "Validation MSE on delta sample in og space:\n",
      "1997025552315.5034\n",
      "Epoch 0, Batch 6000, Training MSE Loss (transf.): 0.0244\n",
      "Epoch 0, Batch 7000, Training MSE Loss (transf.): 0.0243\n",
      "Epoch 0, Batch 8000, Training MSE Loss (transf.): 0.0199\n",
      "Epoch 0, Batch 9000, Training MSE Loss (transf.): 0.0114\n",
      "Epoch 0, Batch 10000, Training MSE Loss (transf.): 0.0169\n",
      "Validation R2 Score on delta sample in transformed space:\n",
      "-0.1144\n",
      "Validation R2 Score on delta sample in og space:\n",
      "-1.4111\n",
      "Validation MSE on delta sample in og space:\n",
      "15537732570926.6133\n",
      "Epoch 0, Batch 11000, Training MSE Loss (transf.): 0.0158\n",
      "Epoch 0, Batch 12000, Training MSE Loss (transf.): 0.0106\n",
      "Epoch 0, Batch 13000, Training MSE Loss (transf.): 0.0349\n",
      "Epoch 0, Batch 14000, Training MSE Loss (transf.): 0.0085\n",
      "Epoch 0, Batch 15000, Training MSE Loss (transf.): 0.0107\n",
      "Validation R2 Score on delta sample in transformed space:\n",
      "-0.1144\n",
      "Validation R2 Score on delta sample in og space:\n",
      "-0.4082\n",
      "Validation MSE on delta sample in og space:\n",
      "7235117505720.4814\n",
      "Epoch 0, Batch 16000, Training MSE Loss (transf.): 0.0127\n",
      "Epoch 0, Batch 17000, Training MSE Loss (transf.): 0.0081\n",
      "Epoch 0, Batch 18000, Training MSE Loss (transf.): 0.0215\n",
      "Epoch 0, Batch 19000, Training MSE Loss (transf.): 0.0187\n",
      "Epoch 0, Batch 20000, Training MSE Loss (transf.): 0.0255\n",
      "Validation R2 Score on delta sample in transformed space:\n",
      "-0.1144\n",
      "Validation R2 Score on delta sample in og space:\n",
      "-0.6013\n",
      "Validation MSE on delta sample in og space:\n",
      "8895201722709.4863\n",
      "Epoch 0, Batch 21000, Training MSE Loss (transf.): 0.0352\n",
      "Epoch 0, Batch 22000, Training MSE Loss (transf.): 0.0207\n",
      "Epoch 0, Loss: 0.0208\n",
      "Epoch 1, Batch 0, Training MSE Loss (transf.): 0.0182\n",
      "Validation R2 Score on delta sample in transformed space:\n",
      "-0.1144\n",
      "Validation R2 Score on delta sample in og space:\n",
      "0.0858\n",
      "Validation MSE on delta sample in og space:\n",
      "3175974657365.9941\n",
      "Epoch 1, Batch 1000, Training MSE Loss (transf.): 0.0144\n",
      "Epoch 1, Batch 2000, Training MSE Loss (transf.): 0.0113\n"
     ]
    },
    {
     "ename": "KeyboardInterrupt",
     "evalue": "",
     "output_type": "error",
     "traceback": [
      "\u001b[0;31m---------------------------------------------------------------------------\u001b[0m",
      "\u001b[0;31mKeyboardInterrupt\u001b[0m                         Traceback (most recent call last)",
      "Cell \u001b[0;32mIn[399], line 23\u001b[0m\n\u001b[1;32m     20\u001b[0m model\u001b[38;5;241m.\u001b[39mtrain()\n\u001b[1;32m     22\u001b[0m \u001b[38;5;66;03m# Iterate over batches\u001b[39;00m\n\u001b[0;32m---> 23\u001b[0m \u001b[38;5;28;01mfor\u001b[39;00m batch_idx, (x_batch, y_batch) \u001b[38;5;129;01min\u001b[39;00m \u001b[38;5;28menumerate\u001b[39m(train_loader):\n\u001b[1;32m     24\u001b[0m     optimizer\u001b[38;5;241m.\u001b[39mzero_grad()\n\u001b[1;32m     26\u001b[0m     \u001b[38;5;66;03m# Forward pass\u001b[39;00m\n",
      "File \u001b[0;32m~/anaconda3/envs/aero/lib/python3.10/site-packages/torch/utils/data/dataloader.py:701\u001b[0m, in \u001b[0;36m_BaseDataLoaderIter.__next__\u001b[0;34m(self)\u001b[0m\n\u001b[1;32m    698\u001b[0m \u001b[38;5;28;01mif\u001b[39;00m \u001b[38;5;28mself\u001b[39m\u001b[38;5;241m.\u001b[39m_sampler_iter \u001b[38;5;129;01mis\u001b[39;00m \u001b[38;5;28;01mNone\u001b[39;00m:\n\u001b[1;32m    699\u001b[0m     \u001b[38;5;66;03m# TODO(https://github.com/pytorch/pytorch/issues/76750)\u001b[39;00m\n\u001b[1;32m    700\u001b[0m     \u001b[38;5;28mself\u001b[39m\u001b[38;5;241m.\u001b[39m_reset()  \u001b[38;5;66;03m# type: ignore[call-arg]\u001b[39;00m\n\u001b[0;32m--> 701\u001b[0m data \u001b[38;5;241m=\u001b[39m \u001b[38;5;28;43mself\u001b[39;49m\u001b[38;5;241;43m.\u001b[39;49m\u001b[43m_next_data\u001b[49m\u001b[43m(\u001b[49m\u001b[43m)\u001b[49m\n\u001b[1;32m    702\u001b[0m \u001b[38;5;28mself\u001b[39m\u001b[38;5;241m.\u001b[39m_num_yielded \u001b[38;5;241m+\u001b[39m\u001b[38;5;241m=\u001b[39m \u001b[38;5;241m1\u001b[39m\n\u001b[1;32m    703\u001b[0m \u001b[38;5;28;01mif\u001b[39;00m (\n\u001b[1;32m    704\u001b[0m     \u001b[38;5;28mself\u001b[39m\u001b[38;5;241m.\u001b[39m_dataset_kind \u001b[38;5;241m==\u001b[39m _DatasetKind\u001b[38;5;241m.\u001b[39mIterable\n\u001b[1;32m    705\u001b[0m     \u001b[38;5;129;01mand\u001b[39;00m \u001b[38;5;28mself\u001b[39m\u001b[38;5;241m.\u001b[39m_IterableDataset_len_called \u001b[38;5;129;01mis\u001b[39;00m \u001b[38;5;129;01mnot\u001b[39;00m \u001b[38;5;28;01mNone\u001b[39;00m\n\u001b[1;32m    706\u001b[0m     \u001b[38;5;129;01mand\u001b[39;00m \u001b[38;5;28mself\u001b[39m\u001b[38;5;241m.\u001b[39m_num_yielded \u001b[38;5;241m>\u001b[39m \u001b[38;5;28mself\u001b[39m\u001b[38;5;241m.\u001b[39m_IterableDataset_len_called\n\u001b[1;32m    707\u001b[0m ):\n",
      "File \u001b[0;32m~/anaconda3/envs/aero/lib/python3.10/site-packages/torch/utils/data/dataloader.py:757\u001b[0m, in \u001b[0;36m_SingleProcessDataLoaderIter._next_data\u001b[0;34m(self)\u001b[0m\n\u001b[1;32m    755\u001b[0m \u001b[38;5;28;01mdef\u001b[39;00m\u001b[38;5;250m \u001b[39m\u001b[38;5;21m_next_data\u001b[39m(\u001b[38;5;28mself\u001b[39m):\n\u001b[1;32m    756\u001b[0m     index \u001b[38;5;241m=\u001b[39m \u001b[38;5;28mself\u001b[39m\u001b[38;5;241m.\u001b[39m_next_index()  \u001b[38;5;66;03m# may raise StopIteration\u001b[39;00m\n\u001b[0;32m--> 757\u001b[0m     data \u001b[38;5;241m=\u001b[39m \u001b[38;5;28;43mself\u001b[39;49m\u001b[38;5;241;43m.\u001b[39;49m\u001b[43m_dataset_fetcher\u001b[49m\u001b[38;5;241;43m.\u001b[39;49m\u001b[43mfetch\u001b[49m\u001b[43m(\u001b[49m\u001b[43mindex\u001b[49m\u001b[43m)\u001b[49m  \u001b[38;5;66;03m# may raise StopIteration\u001b[39;00m\n\u001b[1;32m    758\u001b[0m     \u001b[38;5;28;01mif\u001b[39;00m \u001b[38;5;28mself\u001b[39m\u001b[38;5;241m.\u001b[39m_pin_memory:\n\u001b[1;32m    759\u001b[0m         data \u001b[38;5;241m=\u001b[39m _utils\u001b[38;5;241m.\u001b[39mpin_memory\u001b[38;5;241m.\u001b[39mpin_memory(data, \u001b[38;5;28mself\u001b[39m\u001b[38;5;241m.\u001b[39m_pin_memory_device)\n",
      "File \u001b[0;32m~/anaconda3/envs/aero/lib/python3.10/site-packages/torch/utils/data/_utils/fetch.py:52\u001b[0m, in \u001b[0;36m_MapDatasetFetcher.fetch\u001b[0;34m(self, possibly_batched_index)\u001b[0m\n\u001b[1;32m     50\u001b[0m         data \u001b[38;5;241m=\u001b[39m \u001b[38;5;28mself\u001b[39m\u001b[38;5;241m.\u001b[39mdataset\u001b[38;5;241m.\u001b[39m__getitems__(possibly_batched_index)\n\u001b[1;32m     51\u001b[0m     \u001b[38;5;28;01melse\u001b[39;00m:\n\u001b[0;32m---> 52\u001b[0m         data \u001b[38;5;241m=\u001b[39m [\u001b[38;5;28mself\u001b[39m\u001b[38;5;241m.\u001b[39mdataset[idx] \u001b[38;5;28;01mfor\u001b[39;00m idx \u001b[38;5;129;01min\u001b[39;00m possibly_batched_index]\n\u001b[1;32m     53\u001b[0m \u001b[38;5;28;01melse\u001b[39;00m:\n\u001b[1;32m     54\u001b[0m     data \u001b[38;5;241m=\u001b[39m \u001b[38;5;28mself\u001b[39m\u001b[38;5;241m.\u001b[39mdataset[possibly_batched_index]\n",
      "File \u001b[0;32m~/anaconda3/envs/aero/lib/python3.10/site-packages/torch/utils/data/_utils/fetch.py:52\u001b[0m, in \u001b[0;36m<listcomp>\u001b[0;34m(.0)\u001b[0m\n\u001b[1;32m     50\u001b[0m         data \u001b[38;5;241m=\u001b[39m \u001b[38;5;28mself\u001b[39m\u001b[38;5;241m.\u001b[39mdataset\u001b[38;5;241m.\u001b[39m__getitems__(possibly_batched_index)\n\u001b[1;32m     51\u001b[0m     \u001b[38;5;28;01melse\u001b[39;00m:\n\u001b[0;32m---> 52\u001b[0m         data \u001b[38;5;241m=\u001b[39m [\u001b[38;5;28;43mself\u001b[39;49m\u001b[38;5;241;43m.\u001b[39;49m\u001b[43mdataset\u001b[49m\u001b[43m[\u001b[49m\u001b[43midx\u001b[49m\u001b[43m]\u001b[49m \u001b[38;5;28;01mfor\u001b[39;00m idx \u001b[38;5;129;01min\u001b[39;00m possibly_batched_index]\n\u001b[1;32m     53\u001b[0m \u001b[38;5;28;01melse\u001b[39;00m:\n\u001b[1;32m     54\u001b[0m     data \u001b[38;5;241m=\u001b[39m \u001b[38;5;28mself\u001b[39m\u001b[38;5;241m.\u001b[39mdataset[possibly_batched_index]\n",
      "File \u001b[0;32m~/anaconda3/envs/aero/lib/python3.10/site-packages/torch/utils/data/dataset.py:211\u001b[0m, in \u001b[0;36mTensorDataset.__getitem__\u001b[0;34m(self, index)\u001b[0m\n\u001b[1;32m    210\u001b[0m \u001b[38;5;28;01mdef\u001b[39;00m\u001b[38;5;250m \u001b[39m\u001b[38;5;21m__getitem__\u001b[39m(\u001b[38;5;28mself\u001b[39m, index):\n\u001b[0;32m--> 211\u001b[0m     \u001b[38;5;28;01mreturn\u001b[39;00m \u001b[38;5;28;43mtuple\u001b[39;49m\u001b[43m(\u001b[49m\u001b[43mtensor\u001b[49m\u001b[43m[\u001b[49m\u001b[43mindex\u001b[49m\u001b[43m]\u001b[49m\u001b[43m \u001b[49m\u001b[38;5;28;43;01mfor\u001b[39;49;00m\u001b[43m \u001b[49m\u001b[43mtensor\u001b[49m\u001b[43m \u001b[49m\u001b[38;5;129;43;01min\u001b[39;49;00m\u001b[43m \u001b[49m\u001b[38;5;28;43mself\u001b[39;49m\u001b[38;5;241;43m.\u001b[39;49m\u001b[43mtensors\u001b[49m\u001b[43m)\u001b[49m\n",
      "File \u001b[0;32m~/anaconda3/envs/aero/lib/python3.10/site-packages/torch/utils/data/dataset.py:211\u001b[0m, in \u001b[0;36m<genexpr>\u001b[0;34m(.0)\u001b[0m\n\u001b[1;32m    210\u001b[0m \u001b[38;5;28;01mdef\u001b[39;00m\u001b[38;5;250m \u001b[39m\u001b[38;5;21m__getitem__\u001b[39m(\u001b[38;5;28mself\u001b[39m, index):\n\u001b[0;32m--> 211\u001b[0m     \u001b[38;5;28;01mreturn\u001b[39;00m \u001b[38;5;28mtuple\u001b[39m(tensor[index] \u001b[38;5;28;01mfor\u001b[39;00m tensor \u001b[38;5;129;01min\u001b[39;00m \u001b[38;5;28mself\u001b[39m\u001b[38;5;241m.\u001b[39mtensors)\n",
      "\u001b[0;31mKeyboardInterrupt\u001b[0m: "
     ]
    }
   ],
   "source": [
    "model = TransitionMatrix(in_features = in_feat, out_features = in_feat, width = 2).double()\n",
    "\n",
    "# Define loss and optimizer\n",
    "optimizer = optim.Adam(model.parameters(), lr = 0.001)\n",
    "criterion = torch.nn.MSELoss()\n",
    "\n",
    "x_train = x_train_so4_argsinh.double()\n",
    "y_train = y_delta_train_so4_arcsinh_unitvar.double()\n",
    "\n",
    "train_dataset = TensorDataset(x_train, y_train)\n",
    "train_loader = DataLoader(train_dataset, batch_size = 256, shuffle = True)\n",
    "\n",
    "# Training loop\n",
    "epochs = 10\n",
    "\n",
    "# For some validation\n",
    "val_row_indices = n_random_row_incides(x_val_so4_arcsinh, n = 10000)\n",
    "\n",
    "for epoch in range(epochs):\n",
    "    model.train()\n",
    "    \n",
    "    # Iterate over batches\n",
    "    for batch_idx, (x_batch, y_batch) in enumerate(train_loader):\n",
    "        optimizer.zero_grad()\n",
    "        \n",
    "        # Forward pass\n",
    "        deltas = model(x_batch)\n",
    "        \n",
    "        # Calculate loss\n",
    "        loss = criterion(deltas, y_batch)\n",
    "        \n",
    "        # Backward pass\n",
    "        loss.backward()\n",
    "        optimizer.step()\n",
    "        # print(f'Epoch {epoch}, Batch {batch_idx}, Loss: {loss.item()}')\n",
    "\n",
    "        if batch_idx % 1000 == 0:\n",
    "            print(f'Epoch {epoch}, Batch {batch_idx}, Training MSE Loss (transf.): {loss.item():.4f}')\n",
    "\n",
    "        if batch_idx % 5000 == 0:\n",
    "            model.eval()\n",
    "            PRED_y_delta_val_arcssinh_unitvar = model(x_val_so4_arcsinh[val_row_indices])\n",
    "            # Project back by applying sinh first and then scaling\n",
    "            PRED_y_delta_val_arcssinh_og = torch.sinh(PRED_y_delta_val_arcssinh_unitvar) * std_y_delta_val_so4\n",
    "\n",
    "            print(\"Validation R2 Score on delta sample in transformed space:\")\n",
    "            print(f\"{r2(PRED_y_delta_val_arcssinh, y_delta_val_so4_arcsinh_unitvar[val_row_indices]).item():.4f}\")\n",
    "\n",
    "            print(\"Validation R2 Score on delta sample in og space:\")\n",
    "            print(f\"{r2(PRED_y_delta_val_arcssinh_og, y_delta_val_so4[val_row_indices]).item():.4f}\")\n",
    "\n",
    "            print(\"Validation MSE on delta sample in og space:\")\n",
    "            print(f\"{criterion(PRED_y_delta_val_arcssinh_og, y_delta_val_so4[val_row_indices]).item():.4f}\")\n",
    "\n",
    "            model.train()\n",
    "        \n",
    "    if epoch % 100 == 0:\n",
    "        print(f'Epoch {epoch}, Loss: {loss.item():.4f}')\n",
    "\n",
    "# torch.save(model.state_dict(), os.path.join(\"models\", \"arcsinh_transition_so4.pth\"))"
   ]
  },
  {
   "cell_type": "code",
   "execution_count": 400,
   "metadata": {},
   "outputs": [
    {
     "name": "stdout",
     "output_type": "stream",
     "text": [
      "tensor(0.3728, dtype=torch.float64)\n"
     ]
    }
   ],
   "source": [
    "val_row_indices = n_random_row_incides(x_val_so4_arcsinh, n = 10000)\n",
    "\n",
    "PRED_y_delta_val_arcssinh = model(x_val_so4_arcsinh[val_row_indices])\n",
    "print(r2(PRED_y_delta_val_arcssinh, y_delta_val_so4_arcsinh_unitvar[val_row_indices]))"
   ]
  },
  {
   "cell_type": "code",
   "execution_count": 401,
   "metadata": {},
   "outputs": [
    {
     "data": {
      "image/png": "[encoded data removed]",
      "text/plain": [
       "<Figure size 600x600 with 1 Axes>"
      ]
     },
     "metadata": {},
     "output_type": "display_data"
    },
    {
     "data": {
      "image/png": "[encoded data removed]",
      "text/plain": [
       "<Figure size 600x600 with 1 Axes>"
      ]
     },
     "metadata": {},
     "output_type": "display_data"
    }
   ],
   "source": [
    "# Convert to numpy for plotting\n",
    "y_true = y_delta_val_so4_arcsinh_unitvar[val_row_indices].cpu().numpy()\n",
    "y_pred = PRED_y_delta_val_arcssinh.detach().cpu().numpy()\n",
    "\n",
    "y_true_og = y_delta_val_so4[val_row_indices].cpu().numpy()\n",
    "y_pred_og = torch.sinh(PRED_y_delta_val_arcssinh).detach().cpu().numpy() * std_y_delta_val_so4.cpu().numpy()\n",
    "\n",
    "# Flatten for 1D comparison\n",
    "y_true_flat = y_true.flatten()\n",
    "y_pred_flat = y_pred.flatten()\n",
    "\n",
    "y_true_og_flat = y_true_og.flatten()\n",
    "y_pred_og_flat = y_pred_og.flatten()\n",
    "\n",
    "plt.figure(figsize = (6, 6))\n",
    "plt.scatter(y_true_flat, y_pred_flat, alpha=0.2, s=5)\n",
    "plt.plot([y_true_flat.min(), y_true_flat.max()], [y_true_flat.min(), y_true_flat.max()], 'r--')  # ideal line\n",
    "plt.xlabel('True Δ (arcsinh, unitvar)')\n",
    "plt.ylabel('Predicted Δ (arcsinh, unitvar)')\n",
    "plt.title('Validation Predictions vs Targets')\n",
    "plt.grid(True)\n",
    "plt.axis('equal')\n",
    "plt.tight_layout()\n",
    "plt.show()\n",
    "\n",
    "plt.figure(figsize = (6, 6))\n",
    "plt.scatter(y_true_og_flat, y_pred_og_flat, alpha=0.2, s=5)\n",
    "plt.plot([y_true_og_flat.min(), y_true_og_flat.max()], [y_true_og_flat.min(), y_true_og_flat.max()], 'r--')  # ideal line\n",
    "plt.xlabel('True Δ (arcsinh, unitvar)')\n",
    "plt.ylabel('Predicted Δ (arcsinh, unitvar)')\n",
    "plt.title('Validation Predictions vs Targets')\n",
    "plt.grid(True)\n",
    "plt.axis('equal')\n",
    "plt.tight_layout()\n",
    "plt.show()"
   ]
  },
  {
   "cell_type": "code",
   "execution_count": null,
   "metadata": {},
   "outputs": [
    {
     "data": {
      "text/plain": [
       "tensor(0.0009, dtype=torch.float64)"
      ]
     },
     "execution_count": 373,
     "metadata": {},
     "output_type": "execute_result"
    }
   ],
   "source": [
    "PRED_y_delta_val_arcssinh.std()\n",
    "y_delta_val_so4_arcsinh_unitvar[val_row_indices].mean()\n",
    "\n",
    "PRED_y_delta_val_arcssinh_og = torch.sinh(PRED_y_delta_val_arcssinh_unitvar) * std_y_delta_val_so4\n",
    "\n",
    "            print(\"Validation R2 Score on delta sample in transformed space:\")\n",
    "            print(f\"{r2(PRED_y_delta_val_arcssinh_unitvar, y_delta_val_so4_arcsinh_unitvar[val_row_indices]).item():.4f}\")\n",
    "\n",
    "            print(\"Validation RMSE on delta sample in transformed space:\")\n",
    "            print(f\"{torch.sqrt(criterion(PRED_y_delta_val_arcssinh_unitvar, y_delta_val_so4[val_row_indices])).item():.4f}\")\n",
    "\n",
    "            print(\"Validation R2 Score on delta sample in og space:\")\n",
    "            print(f\"{r2(PRED_y_delta_val_arcssinh_og, y_delta_val_so4[val_row_indices]).item():.4f}\")\n",
    "\n",
    "            print(\"Validation RMSE on delta sample in og space:\")\n",
    "            print(f\"{torch.sqrt(criterion(PRED_y_delta_val_arcssinh_og, y_delta_val_so4[val_row_indices])).item():.4f}\")"
   ]
  }
 ],
 "metadata": {
  "kernelspec": {
   "display_name": "aero",
   "language": "python",
   "name": "python3"
  },
  "language_info": {
   "codemirror_mode": {
    "name": "ipython",
    "version": 3
   },
   "file_extension": ".py",
   "mimetype": "text/x-python",
   "name": "python",
   "nbconvert_exporter": "python",
   "pygments_lexer": "ipython3",
   "version": "3.10.16"
  }
 },
 "nbformat": 4,
 "nbformat_minor": 2
}
