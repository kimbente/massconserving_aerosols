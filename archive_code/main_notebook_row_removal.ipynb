{
 "cells": [
  {
   "cell_type": "code",
   "execution_count": 42,
   "metadata": {},
   "outputs": [],
   "source": [
    "\"\"\"\n",
    "Description : Train neural network model to predict one time step of M7\n",
    "Options:\n",
    "\n",
    "  --signs=<need_extra_signs_for_log_mass>\n",
    "  --classification=<train_classification_net>\n",
    "  --scale=<scaler>\n",
    "  --model=<model_version>\n",
    "\"\"\"\n",
    "\n",
    "import numpy as np\n",
    "from utils import standard_transform_x, standard_transform_y, get_model, train_model, create_report, calculate_stats, log_full_norm_transform_x, log_tend_norm_transform_y, create_dataloader, create_test_dataloader\n",
    "# from models import Softmax_model\n",
    "from utils import add_nn_arguments_jupyter\n",
    "import torch.nn as nn \n",
    "import torch\n",
    "import torch.optim as optim\n",
    "\n",
    "from sklearn.metrics import mean_squared_error, r2_score\n",
    "\n",
    "# KB add for active development in models or utils\n",
    "# %load_ext autoreload\n",
    "# %autoreload 2"
   ]
  },
  {
   "cell_type": "code",
   "execution_count": 125,
   "metadata": {},
   "outputs": [
    {
     "data": {
      "text/plain": [
       "{'xtrain_mean': array([43053.9604, 220.3648, 0.4515, 13.3899, 0.1420, 0.1436, 0.0765,\n",
       "        0.0000, 1693412.4856, 765762.7104, 84252691.7798, 1446742257.3917,\n",
       "        46672873.0290, 0.0006, 0.0095, 0.0000, 0.0062, 0.0031, 0.0905,\n",
       "        0.0002, 0.0193, 0.0748, 0.7950, 0.1206, 3.0554, 5872.5780,\n",
       "        317.3611, 53.0839, 0.3419, 20.2820, 0.7228, 0.7486]),\n",
       " 'xtrain_std': array([29736.9815, 16.9946, 0.4051, 11.0695, 0.3362, 0.3507, 0.1869,\n",
       "        0.0000, 5929431.1605, 2599012.2963, 116870184.8104,\n",
       "        5837074433.2043, 329255434.5922, 0.0013, 0.0833, 0.0003, 0.0553,\n",
       "        0.0049, 0.6637, 0.0085, 0.1379, 0.7315, 8.0136, 2.4755, 56.2701,\n",
       "        19559.4708, 513.4709, 133.6869, 2.0570, 151.9586, 14.0062, 11.5913]),\n",
       " 'ytrain_mean': array([1327825.6655, 809597.8647, 84269109.5843, 1447012439.0770,\n",
       "        46708025.2049, 0.0006, 0.0095, 0.0000, 0.0062, 0.0031, 0.0905,\n",
       "        0.0002, 0.0193, 0.0749, 0.7958, 0.1206, 3.0546, 8691.8702,\n",
       "        317.2871, 53.1025, 0.3421, 20.2323, 0.7226, 0.7484, 0.0000, 0.0000,\n",
       "        0.0000, 0.0000]),\n",
       " 'ytrain_std': array([4348104.7502, 2864771.9468, 116922612.9566, 5837618030.9065,\n",
       "        329371232.7807, 0.0013, 0.0834, 0.0003, 0.0550, 0.0049, 0.6640,\n",
       "        0.0088, 0.1375, 0.7319, 8.0205, 2.4753, 56.2664, 49082.1728,\n",
       "        513.4273, 133.7105, 2.0580, 150.9465, 14.0049, 11.5906, 0.0000,\n",
       "        0.0000, 0.0000, 0.0000]),\n",
       " 'so4_mean': 316025399.47929496,\n",
       " 'bc_mean': 0.004087715909186655,\n",
       " 'oc_mean': 0.028252275123764964,\n",
       " 'du_mean': 1.011460994375817,\n",
       " 'X_log_eps_mean': array([10.2685, 5.3924, -4.6991, 2.1493, -15.2543, -15.7752, -15.2754,\n",
       "        -18.4207, 6.2350, 7.6842, 16.9039, 18.9453, 15.0573, -10.1177,\n",
       "        -9.8438, -15.5283, -12.8810, -7.0936, -5.7218, -13.2658, -11.8779,\n",
       "        -6.7185, -5.5855, -12.3557, -9.2988, 3.0397, 4.6720, 2.6241,\n",
       "        -4.9179, -6.9544, -10.9366, -9.5604]),\n",
       " 'X_log_eps_std': array([1.0942, 0.0756, 7.0543, 1.0186, 6.8624, 6.4601, 6.7048, 0.0000,\n",
       "        11.1614, 5.9932, 2.2667, 3.0393, 3.5399, 3.4762, 4.3356, 3.0149,\n",
       "        5.7017, 2.0609, 2.8901, 3.0699, 6.0433, 3.2062, 3.8073, 5.8844,\n",
       "        7.0094, 5.9473, 1.7718, 2.4090, 3.4309, 8.6982, 6.6246, 6.7264]),\n",
       " 'y_log_eps_mean': array([6.0327, 7.8508, 16.9049, 18.9512, 15.0621, -10.1029, -9.8423,\n",
       "        -15.5267, -12.8907, -7.0922, -5.7206, -13.2639, -11.8908, -6.7164,\n",
       "        -5.5795, -12.4032, -9.5404, 3.3844, 4.6728, 2.6259, -4.9106,\n",
       "        -6.9806, -11.0128, -9.7492, -18.4207, -18.4189, -18.3645, -18.3439]),\n",
       " 'y_log_eps_std': array([11.1533, 5.8547, 2.2521, 2.9961, 3.5244, 3.4625, 4.3350, 3.0152,\n",
       "        5.7040, 2.0572, 2.8881, 3.0694, 6.0471, 3.2015, 3.8005, 5.9129,\n",
       "        7.1934, 5.8353, 1.7653, 2.4006, 3.4167, 8.7094, 6.6761, 6.8795,\n",
       "        0.0000, 0.0046, 0.2015, 0.3090]),\n",
       " 'means': array([2698939.2714, 1404899.6559, 109545703.7127, 3369261945.8783,\n",
       "        98111939.9192, 0.0016, 0.0313, 0.0000, 0.0095, 0.0075, 0.2901,\n",
       "        0.0002, 0.0430, 0.0683, 1.2542, 0.0289, 0.9509, 12125.6442,\n",
       "        511.3556, 131.1692, 0.5175, 34.1575, 0.1635, 0.2091])}"
      ]
     },
     "execution_count": 125,
     "metadata": {},
     "output_type": "execute_result"
    }
   ],
   "source": [
    "# define full path \n",
    "path_to_data = \"/home/kim/data/aerosols/aerosol_emulation_data/\"\n",
    "\n",
    "X_test = np.load(path_to_data + 'X_test.npy')\n",
    "y_test = np.load(path_to_data + 'y_test.npy')\n",
    "\n",
    "X_train = np.load(path_to_data + 'X_train.npy')\n",
    "y_train = np.load(path_to_data + 'y_train.npy')\n",
    "\n",
    "X_valid = np.load(path_to_data + 'X_val.npy')\n",
    "y_valid = np.load(path_to_data + 'y_val.npy')\n",
    "\n",
    "# Select the correct 24 columns\n",
    "X_test_24 = X_test[:, 8:]\n",
    "X_train_24 = X_train[:, 8:] \n",
    "\n",
    "y_test_24 = y_test[:, :24]\n",
    "y_train_24 = y_train[:, :24]\n",
    "\n",
    "y_valid_24 = y_valid[:, :24]\n",
    "X_valid_24 = X_valid[:, 8:]\n",
    "\n",
    "# How much has it changes between x (at t = 0)  and y (at t = 1)\n",
    "y_delta_train_24 = y_train_24 - X_train_24\n",
    "y_delta_test_24 = y_test_24 - X_test_24\n",
    "y_delta_valid_24 = y_valid_24 - X_valid_24\n",
    "\n",
    "# Define column indices for each of the components (24 column version)\n",
    "so4_indices = [0, 1, 2, 3, 4]\n",
    "bc_indices = [5, 6, 7, 8]\n",
    "oc_indices = [9, 10, 11, 12]\n",
    "du_indices = [13, 14, 15, 16]\n",
    "# What are these indices?!\n",
    "extra_indices = [17, 18, 19, 20, 21, 22, 23] \n",
    "\n",
    "args = add_nn_arguments_jupyter()\n",
    "\n",
    "# Takes a minute\n",
    "stats = calculate_stats(X_train, y_train, X_test, y_test, args)\n",
    "\n",
    "# Look at stats\n",
    "np.set_printoptions(precision = 4, suppress = True, formatter = {'all': lambda x: f'{x:.4f}'})\n",
    "stats"
   ]
  },
  {
   "cell_type": "code",
   "execution_count": null,
   "metadata": {},
   "outputs": [
    {
     "data": {
      "text/plain": [
       "array([3.35553823e+10, 1.81337293e+09, 3.03316521e+08, 1.95361305e+06,\n",
       "       1.15889434e+08, 4.13028445e+06, 4.27734393e+06])"
      ]
     },
     "execution_count": 6,
     "metadata": {},
     "output_type": "execute_result"
    }
   ],
   "source": [
    "# Not currently using this\n",
    "extra_indices = [17, 18, 19, 20, 21, 22, 23] \n",
    "X_train_24[:, extra_indices].sum(axis = 0)"
   ]
  },
  {
   "cell_type": "markdown",
   "metadata": {},
   "source": [
    "# Calculate relative values for softmax"
   ]
  },
  {
   "cell_type": "code",
   "execution_count": 132,
   "metadata": {},
   "outputs": [
    {
     "name": "stderr",
     "output_type": "stream",
     "text": [
      "/tmp/ipykernel_143632/3641352552.py:10: RuntimeWarning: invalid value encountered in divide\n",
      "  return XY[:, indices] / XY[:, indices].sum(axis = 1)[..., np.newaxis]\n",
      "/tmp/ipykernel_143632/3641352552.py:10: RuntimeWarning: divide by zero encountered in divide\n",
      "  return XY[:, indices] / XY[:, indices].sum(axis = 1)[..., np.newaxis]\n"
     ]
    }
   ],
   "source": [
    "# Define aerosol species and their corresponding indices\n",
    "species_indices = {\n",
    "    'so4': so4_indices,\n",
    "    'bc': bc_indices,\n",
    "    'oc': oc_indices,\n",
    "    'du': du_indices\n",
    "}\n",
    "\n",
    "def normalize_data(XY, indices):\n",
    "    return XY[:, indices] / XY[:, indices].sum(axis = 1)[..., np.newaxis]\n",
    "\n",
    "def process_data(X_train, X_valid, X_test, y_train, y_valid, y_test, species_indices):\n",
    "    for species, indices in species_indices.items():\n",
    "        # Create variables for relative data\n",
    "        globals()[f'x_train_{species}_relative'] = normalize_data(X_train, indices)\n",
    "        globals()[f'y_train_{species}_relative'] = normalize_data(y_train, indices)\n",
    "        \n",
    "        globals()[f'x_valid_{species}_relative'] = normalize_data(X_valid, indices)\n",
    "        globals()[f'y_valid_{species}_relative'] = normalize_data(y_valid, indices)\n",
    "        \n",
    "        globals()[f'x_test_{species}_relative'] = normalize_data(X_test, indices)\n",
    "        globals()[f'y_test_{species}_relative'] = normalize_data(y_test, indices)\n",
    "\n",
    "        # For R2 and MSE calculations\n",
    "        globals()[f'y_test_{species}_absolute'] = y_test[:, indices]\n",
    "        # Used to scale back to OG domain\n",
    "        globals()[f'x_test_{species}_absolute'] = X_test[:, indices]\n",
    "\n",
    "# Process the data and create variables\n",
    "process_data(X_train_24, X_valid_24, X_test_24, y_train_24, y_valid_24, y_test_24, species_indices)"
   ]
  },
  {
   "cell_type": "markdown",
   "metadata": {},
   "source": [
    "# Remove a few rows from data due to dividion by zero\n",
    "\n",
    "- This means there is no aersol mass in the cells so we can just remove this.\n",
    "- x and y data are removed pairwise"
   ]
  },
  {
   "cell_type": "code",
   "execution_count": 133,
   "metadata": {},
   "outputs": [
    {
     "name": "stdout",
     "output_type": "stream",
     "text": [
      "Species: so4 - TRAIN: Removed 0 rows due to NaNs.\n",
      "Species: so4 - TEST: Removed 0 rows due to NaNs.\n",
      "Species: so4 - VALID: Removed 0 rows due to NaNs.\n",
      "Species: bc - TRAIN: Removed 664 rows due to NaNs.\n",
      "Species: bc - TEST: Removed 62 rows due to NaNs.\n",
      "Species: bc - VALID: Removed 95 rows due to NaNs.\n",
      "Species: oc - TRAIN: Removed 249 rows due to NaNs.\n",
      "Species: oc - TEST: Removed 65 rows due to NaNs.\n",
      "Species: oc - VALID: Removed 121 rows due to NaNs.\n",
      "Species: du - TRAIN: Removed 1055 rows due to NaNs.\n",
      "Species: du - TEST: Removed 402 rows due to NaNs.\n",
      "Species: du - VALID: Removed 607 rows due to NaNs.\n"
     ]
    }
   ],
   "source": [
    "for species, indices in species_indices.items():\n",
    "    ### TRAIN ###\n",
    "    # Fetch the arrays using globals()\n",
    "    x_train_species = globals().get(f'x_train_{species}_relative', None)\n",
    "    y_train_species = globals().get(f'y_train_{species}_relative', None)\n",
    "\n",
    "    # Extract the indices of the rows with NaN values\n",
    "    x_train_nan_indices = np.where(np.isnan(x_train_species).any(axis = 1))[0].astype(int)\n",
    "    y_train_nan_indices = np.where(np.isnan(y_train_species).any(axis = 1))[0].astype(int)\n",
    "\n",
    "    # Find the union of the two arrays\n",
    "    train_nan_indices = np.union1d(x_train_nan_indices, y_train_nan_indices)\n",
    "\n",
    "    # Count the number of rows removed\n",
    "    rows_removed_train = len(train_nan_indices)\n",
    "\n",
    "    # Remove the rows from both arrays for the training set\n",
    "    globals()[f'x_train_{species}_relative'] = x_train_species[~np.isin(np.arange(len(x_train_species)), train_nan_indices)]\n",
    "    globals()[f'y_train_{species}_relative'] = y_train_species[~np.isin(np.arange(len(y_train_species)), train_nan_indices)]\n",
    "\n",
    "    # Print the number of rows removed for train set\n",
    "    print(f\"Species: {species} - TRAIN: Removed {rows_removed_train} rows due to NaNs.\")\n",
    "\n",
    "    ### TEST ###\n",
    "    # Fetch the test arrays using globals()\n",
    "    x_test_species = globals().get(f'x_test_{species}_relative', None)\n",
    "    y_test_species = globals().get(f'y_test_{species}_relative', None)\n",
    "    x_test_species_ABSOLUTE = globals().get(f'x_test_{species}_absolute', None)\n",
    "    y_test_species_ABSOLUTE = globals().get(f'y_test_{species}_absolute', None)\n",
    "\n",
    "    # Extract the indices of the rows with NaN values\n",
    "    x_test_nan_indices = np.where(np.isnan(x_test_species).any(axis = 1))[0].astype(int)\n",
    "    y_test_nan_indices = np.where(np.isnan(y_test_species).any(axis = 1))[0].astype(int)\n",
    "\n",
    "    # Find the union of the two arrays\n",
    "    test_nan_indices = np.union1d(x_test_nan_indices, y_test_nan_indices)\n",
    "\n",
    "    # Count the number of rows removed\n",
    "    rows_removed_test = len(test_nan_indices)\n",
    "\n",
    "    # Remove the rows from both arrays for the test set\n",
    "    globals()[f'x_test_{species}_relative'] = x_test_species[~np.isin(np.arange(len(x_test_species)), test_nan_indices)]\n",
    "    globals()[f'y_test_{species}_relative'] = y_test_species[~np.isin(np.arange(len(y_test_species)), test_nan_indices)]\n",
    "    globals()[f'x_test_{species}_absolute'] = x_test_species_ABSOLUTE[~np.isin(np.arange(len(x_test_species_ABSOLUTE)), test_nan_indices)]\n",
    "    globals()[f'y_test_{species}_absolute'] = y_test_species_ABSOLUTE[~np.isin(np.arange(len(y_test_species_ABSOLUTE)), test_nan_indices)]\n",
    "\n",
    "    # Print the number of rows removed for test set\n",
    "    print(f\"Species: {species} - TEST: Removed {rows_removed_test} rows due to NaNs.\")\n",
    "\n",
    "    ### VALID ###\n",
    "    # Fetch the validation arrays using globals()\n",
    "    x_valid_species = globals().get(f'x_valid_{species}_relative', None)\n",
    "    y_valid_species = globals().get(f'y_valid_{species}_relative', None)\n",
    "\n",
    "    # Extract the indices of the rows with NaN values\n",
    "    x_valid_nan_indices = np.where(np.isnan(x_valid_species).any(axis = 1))[0].astype(int)\n",
    "    y_valid_nan_indices = np.where(np.isnan(y_valid_species).any(axis = 1))[0].astype(int)\n",
    "\n",
    "    # Find the union of the two arrays\n",
    "    valid_nan_indices = np.union1d(x_valid_nan_indices, y_valid_nan_indices)\n",
    "\n",
    "    # Count the number of rows removed\n",
    "    rows_removed_valid = len(valid_nan_indices)\n",
    "\n",
    "    # Remove the rows from both arrays for the validation set\n",
    "    globals()[f'x_valid_{species}_relative'] = x_valid_species[~np.isin(np.arange(len(x_valid_species)), valid_nan_indices)]\n",
    "    globals()[f'y_valid_{species}_relative'] = y_valid_species[~np.isin(np.arange(len(y_valid_species)), valid_nan_indices)]\n",
    "\n",
    "    # Print the number of rows removed for validation set\n",
    "    print(f\"Species: {species} - VALID: Removed {rows_removed_valid} rows due to NaNs.\")"
   ]
  },
  {
   "cell_type": "markdown",
   "metadata": {},
   "source": [
    "# Loop to make model for each species"
   ]
  },
  {
   "cell_type": "code",
   "execution_count": 138,
   "metadata": {},
   "outputs": [
    {
     "name": "stdout",
     "output_type": "stream",
     "text": [
      "Species: so4 - TRAINING COMMENCED\n",
      "(5713910, 5) (5713910, 5)\n",
      "GPU available: True\n",
      "Epoch 1, Train Loss: 0.00013\n",
      "Epoch 1, Val Loss: 0.00002\n",
      "Epoch 2, Train Loss: 0.00002\n",
      "Epoch 2, Val Loss: 0.00002\n",
      "Epoch 3, Train Loss: 0.00002\n",
      "Epoch 3, Val Loss: 0.00002\n"
     ]
    },
    {
     "name": "stderr",
     "output_type": "stream",
     "text": [
      "/tmp/ipykernel_143632/1173792983.py:65: FutureWarning: You are using `torch.load` with `weights_only=False` (the current default value), which uses the default pickle module implicitly. It is possible to construct malicious pickle data which will execute arbitrary code during unpickling (See https://github.com/pytorch/pytorch/blob/main/SECURITY.md#untrusted-models for more details). In a future release, the default value for `weights_only` will be flipped to `True`. This limits the functions that could be executed during unpickling. Arbitrary objects will no longer be allowed to be loaded via this mode unless they are explicitly allowlisted by the user via `torch.serialization.add_safe_globals`. We recommend you start setting `weights_only=True` for any use case where you don't have full control of the loaded file. Please open an issue on GitHub for any issues related to this experimental feature.\n",
      "  model.load_state_dict(torch.load('./models/' + args.model_id + '.pth') ['state_dict'])\n"
     ]
    },
    {
     "name": "stdout",
     "output_type": "stream",
     "text": [
      "Species: so4 | MSE relative: 1.9352746440497093e-05\n",
      "Species: so4 | R2 relative: 0.9903628594440456\n",
      "Species: so4 | MSE absolute: 28381060501857.28\n",
      "Species: so4 | R2 absolute: 0.8491503864072246\n",
      "Species: bc - TRAINING COMMENCED\n",
      "(5713246, 4) (5713246, 4)\n",
      "GPU available: True\n",
      "Epoch 1, Train Loss: 0.00052\n",
      "Epoch 1, Val Loss: 0.00073\n",
      "Epoch 2, Train Loss: 0.00040\n",
      "Epoch 2, Val Loss: 0.00072\n",
      "Epoch 3, Train Loss: 0.00040\n",
      "Epoch 3, Val Loss: 0.00073\n"
     ]
    },
    {
     "name": "stderr",
     "output_type": "stream",
     "text": [
      "/tmp/ipykernel_143632/1173792983.py:65: FutureWarning: You are using `torch.load` with `weights_only=False` (the current default value), which uses the default pickle module implicitly. It is possible to construct malicious pickle data which will execute arbitrary code during unpickling (See https://github.com/pytorch/pytorch/blob/main/SECURITY.md#untrusted-models for more details). In a future release, the default value for `weights_only` will be flipped to `True`. This limits the functions that could be executed during unpickling. Arbitrary objects will no longer be allowed to be loaded via this mode unless they are explicitly allowlisted by the user via `torch.serialization.add_safe_globals`. We recommend you start setting `weights_only=True` for any use case where you don't have full control of the loaded file. Please open an issue on GitHub for any issues related to this experimental feature.\n",
      "  model.load_state_dict(torch.load('./models/' + args.model_id + '.pth') ['state_dict'])\n"
     ]
    },
    {
     "name": "stdout",
     "output_type": "stream",
     "text": [
      "Species: bc | MSE relative: 0.00034530206594376604\n",
      "Species: bc | R2 relative: 0.8911598236612454\n",
      "Species: bc | MSE absolute: 5.831803390771487e-08\n",
      "Species: bc | R2 absolute: 0.9730799390200412\n",
      "Species: oc - TRAINING COMMENCED\n",
      "(5713661, 4) (5713661, 4)\n",
      "GPU available: True\n",
      "Epoch 1, Train Loss: 0.00132\n",
      "Epoch 1, Val Loss: 0.00484\n",
      "Epoch 2, Train Loss: 0.00119\n",
      "Epoch 2, Val Loss: 0.00483\n",
      "Epoch 3, Train Loss: 0.00119\n",
      "Epoch 3, Val Loss: 0.00484\n"
     ]
    },
    {
     "name": "stderr",
     "output_type": "stream",
     "text": [
      "/tmp/ipykernel_143632/1173792983.py:65: FutureWarning: You are using `torch.load` with `weights_only=False` (the current default value), which uses the default pickle module implicitly. It is possible to construct malicious pickle data which will execute arbitrary code during unpickling (See https://github.com/pytorch/pytorch/blob/main/SECURITY.md#untrusted-models for more details). In a future release, the default value for `weights_only` will be flipped to `True`. This limits the functions that could be executed during unpickling. Arbitrary objects will no longer be allowed to be loaded via this mode unless they are explicitly allowlisted by the user via `torch.serialization.add_safe_globals`. We recommend you start setting `weights_only=True` for any use case where you don't have full control of the loaded file. Please open an issue on GitHub for any issues related to this experimental feature.\n",
      "  model.load_state_dict(torch.load('./models/' + args.model_id + '.pth') ['state_dict'])\n"
     ]
    },
    {
     "name": "stdout",
     "output_type": "stream",
     "text": [
      "Species: oc | MSE relative: 0.00040628098220986197\n",
      "Species: oc | R2 relative: 0.9144672591784538\n",
      "Species: oc | MSE absolute: 2.321258736492638e-06\n",
      "Species: oc | R2 absolute: 0.9632522747270107\n",
      "Species: du - TRAINING COMMENCED\n",
      "(5712855, 4) (5712855, 4)\n",
      "GPU available: True\n",
      "Epoch 1, Train Loss: 0.17640\n",
      "Epoch 1, Val Loss: 1.12900\n",
      "Epoch 2, Train Loss: 0.17625\n",
      "Epoch 2, Val Loss: 1.12898\n",
      "Epoch 3, Train Loss: 0.17624\n",
      "Epoch 3, Val Loss: 1.12897\n"
     ]
    },
    {
     "name": "stderr",
     "output_type": "stream",
     "text": [
      "/tmp/ipykernel_143632/1173792983.py:65: FutureWarning: You are using `torch.load` with `weights_only=False` (the current default value), which uses the default pickle module implicitly. It is possible to construct malicious pickle data which will execute arbitrary code during unpickling (See https://github.com/pytorch/pytorch/blob/main/SECURITY.md#untrusted-models for more details). In a future release, the default value for `weights_only` will be flipped to `True`. This limits the functions that could be executed during unpickling. Arbitrary objects will no longer be allowed to be loaded via this mode unless they are explicitly allowlisted by the user via `torch.serialization.add_safe_globals`. We recommend you start setting `weights_only=True` for any use case where you don't have full control of the loaded file. Please open an issue on GitHub for any issues related to this experimental feature.\n",
      "  model.load_state_dict(torch.load('./models/' + args.model_id + '.pth') ['state_dict'])\n"
     ]
    },
    {
     "name": "stdout",
     "output_type": "stream",
     "text": [
      "Species: du | MSE relative: 0.01829193106793996\n",
      "Species: du | R2 relative: 0.6590220239605113\n",
      "Species: du | MSE absolute: 0.002282361637267535\n",
      "Species: du | R2 absolute: 0.9972450902731531\n"
     ]
    }
   ],
   "source": [
    "device = torch.device(\"cuda:0\" if torch.cuda.is_available() else \"cpu\")\n",
    "\n",
    "for species, indices in species_indices.items():\n",
    "    print(f\"Species: {species} - TRAINING COMMENCED\")\n",
    "\n",
    "    ### ARGS ###\n",
    "    args = add_nn_arguments_jupyter()\n",
    "    # Overwrite the model name, keep everything else the same\n",
    "    # Have one model for now as each input dim can be different\n",
    "    args.model = 'softmax_model'\n",
    "    args.model_id = 'softmax_' + species # save different models\n",
    "    # Run for only 3 epochs for proof of concept\n",
    "    # Took around 2 mins per epoch\n",
    "    args.epochs = 3 \n",
    "\n",
    "    ### TRAIN ###\n",
    "    # Fetch the arrays using globals()\n",
    "    x_train_species = globals().get(f'x_train_{species}_relative', None)\n",
    "    y_train_species = globals().get(f'y_train_{species}_relative', None)\n",
    "\n",
    "    x_valid_species = globals().get(f'x_valid_{species}_relative', None)\n",
    "    y_valid_species = globals().get(f'y_valid_{species}_relative', None)\n",
    "\n",
    "    print(x_train_species.shape, x_train_species.shape)\n",
    "\n",
    "    input_dim = x_train_species.shape[1]\n",
    "    output_dim = y_train_species.shape[1]\n",
    "\n",
    "    # Create dataloaders\n",
    "    train_data_species = create_dataloader(x_train_species, y_train_species, args)\n",
    "    valid_data_species = create_test_dataloader(x_valid_species, y_valid_species, args)\n",
    "\n",
    "    # Initalize model\n",
    "    model = get_model(\n",
    "        in_features = input_dim, \n",
    "        out_features = output_dim, \n",
    "        args = args, \n",
    "        constraints_active = False)\n",
    "\n",
    "    if args.mode == 'train':\n",
    "            \n",
    "        optimizer = optim.Adam(\n",
    "                model.parameters(), \n",
    "                lr = args.lr, \n",
    "                weight_decay = args.weight_decay)\n",
    "\n",
    "        train_model(\n",
    "                model = model, \n",
    "                train_data = train_data_species, \n",
    "                test_data = valid_data_species, # validation\n",
    "                optimizer = optimizer, \n",
    "                input_dim = input_dim, \n",
    "                output_dim = output_dim, \n",
    "                stats = stats, \n",
    "                X_test = X_test, #??\n",
    "                y_test = y_test, #??\n",
    "                args = args)\n",
    "        # Saves the model automatically\n",
    "    \n",
    "    ### LOAD trained model ###\n",
    "    model = get_model(\n",
    "        in_features = input_dim, out_features = output_dim, args = args, constraints_active = True\n",
    "        # KB: constraints_active = True This is not used for the softmax model\n",
    "    ) \n",
    "    model.load_state_dict(torch.load('./models/' + args.model_id + '.pth') ['state_dict'])\n",
    "    model.to(device)\n",
    "    # Evaluate\n",
    "    model.eval()\n",
    "\n",
    "    # Fetch the test arrays using globals()\n",
    "    x_test_species = globals().get(f'x_test_{species}_relative', None)\n",
    "    y_test_species = globals().get(f'y_test_{species}_relative', None)\n",
    "\n",
    "    x_test_species_absolute = globals().get(f'x_test_{species}_absolute', None)\n",
    "    y_test_species_absolute = globals().get(f'y_test_{species}_absolute', None)\n",
    "\n",
    "    # Relative prediction on test\n",
    "    y_test_species_relative_PRED = model(torch.tensor(x_test_species).to(device).float())\n",
    "    # Absolue Prediction. Project back using sums from x_test (not y_test itself)\n",
    "    y_test_species_absolute_PRED = y_test_species_relative_PRED.detach().cpu().numpy() * x_test_species_absolute.sum(axis = 1)[..., np.newaxis]\n",
    "\n",
    "    # sklearn function, same as np.square(relative_error).mean()\n",
    "    # relative is implicit in naming\n",
    "    MSE_rel = mean_squared_error(y_test_species, y_test_species_relative_PRED.detach().cpu().numpy())\n",
    "    R2_rel = r2_score(y_test_species, y_test_species_relative_PRED.detach().cpu().numpy())\n",
    "    print(f'Species: {species} | MSE relative:', MSE_rel)\n",
    "    print(f'Species: {species} | R2 relative:', R2_rel)\n",
    "\n",
    "    # true, pred\n",
    "    MSE_abs = mean_squared_error(y_test_species_absolute, y_test_species_absolute_PRED)\n",
    "    R2_abs = r2_score(y_test_species_absolute, y_test_species_absolute_PRED)\n",
    "    print(f'Species: {species} | MSE absolute:', MSE_abs)\n",
    "    print(f'Species: {species} | R2 absolute:', R2_abs)"
   ]
  },
  {
   "cell_type": "code",
   "execution_count": 167,
   "metadata": {},
   "outputs": [
    {
     "name": "stdout",
     "output_type": "stream",
     "text": [
      "Species: so4\n",
      "(5713910, 5) (5713910, 5)\n"
     ]
    },
    {
     "name": "stderr",
     "output_type": "stream",
     "text": [
      "/tmp/ipykernel_143632/2677372601.py:34: FutureWarning: You are using `torch.load` with `weights_only=False` (the current default value), which uses the default pickle module implicitly. It is possible to construct malicious pickle data which will execute arbitrary code during unpickling (See https://github.com/pytorch/pytorch/blob/main/SECURITY.md#untrusted-models for more details). In a future release, the default value for `weights_only` will be flipped to `True`. This limits the functions that could be executed during unpickling. Arbitrary objects will no longer be allowed to be loaded via this mode unless they are explicitly allowlisted by the user via `torch.serialization.add_safe_globals`. We recommend you start setting `weights_only=True` for any use case where you don't have full control of the loaded file. Please open an issue on GitHub for any issues related to this experimental feature.\n",
      "  model.load_state_dict(torch.load('./models/' + args.model_id + '.pth') ['state_dict'])\n"
     ]
    },
    {
     "name": "stdout",
     "output_type": "stream",
     "text": [
      "Species: so4 | MSE relative: 1.9352746440497093e-05\n",
      "Species: so4 | R2 relative: 0.9903628594440456\n",
      "Species: so4 | MSE absolute: 28381060501857.28\n",
      "Species: so4 | R2 absolute: 0.8491503864072246\n",
      "Species: so4 | R2 absolute tendencies: -53.388559072767656\n",
      "Species: bc\n",
      "(5713246, 4) (5713246, 4)\n"
     ]
    },
    {
     "name": "stderr",
     "output_type": "stream",
     "text": [
      "/tmp/ipykernel_143632/2677372601.py:34: FutureWarning: You are using `torch.load` with `weights_only=False` (the current default value), which uses the default pickle module implicitly. It is possible to construct malicious pickle data which will execute arbitrary code during unpickling (See https://github.com/pytorch/pytorch/blob/main/SECURITY.md#untrusted-models for more details). In a future release, the default value for `weights_only` will be flipped to `True`. This limits the functions that could be executed during unpickling. Arbitrary objects will no longer be allowed to be loaded via this mode unless they are explicitly allowlisted by the user via `torch.serialization.add_safe_globals`. We recommend you start setting `weights_only=True` for any use case where you don't have full control of the loaded file. Please open an issue on GitHub for any issues related to this experimental feature.\n",
      "  model.load_state_dict(torch.load('./models/' + args.model_id + '.pth') ['state_dict'])\n"
     ]
    },
    {
     "name": "stdout",
     "output_type": "stream",
     "text": [
      "Species: bc | MSE relative: 0.00034530206594376604\n",
      "Species: bc | R2 relative: 0.8911598236612454\n",
      "Species: bc | MSE absolute: 5.831803390771487e-08\n",
      "Species: bc | R2 absolute: 0.9730799390200412\n",
      "Species: bc | R2 absolute tendencies: -285.54331598730323\n",
      "Species: oc\n",
      "(5713661, 4) (5713661, 4)\n"
     ]
    },
    {
     "name": "stderr",
     "output_type": "stream",
     "text": [
      "/tmp/ipykernel_143632/2677372601.py:34: FutureWarning: You are using `torch.load` with `weights_only=False` (the current default value), which uses the default pickle module implicitly. It is possible to construct malicious pickle data which will execute arbitrary code during unpickling (See https://github.com/pytorch/pytorch/blob/main/SECURITY.md#untrusted-models for more details). In a future release, the default value for `weights_only` will be flipped to `True`. This limits the functions that could be executed during unpickling. Arbitrary objects will no longer be allowed to be loaded via this mode unless they are explicitly allowlisted by the user via `torch.serialization.add_safe_globals`. We recommend you start setting `weights_only=True` for any use case where you don't have full control of the loaded file. Please open an issue on GitHub for any issues related to this experimental feature.\n",
      "  model.load_state_dict(torch.load('./models/' + args.model_id + '.pth') ['state_dict'])\n"
     ]
    },
    {
     "name": "stdout",
     "output_type": "stream",
     "text": [
      "Species: oc | MSE relative: 0.00040628098220986197\n",
      "Species: oc | R2 relative: 0.9144672591784538\n",
      "Species: oc | MSE absolute: 2.321258736492638e-06\n",
      "Species: oc | R2 absolute: 0.9632522747270107\n",
      "Species: oc | R2 absolute tendencies: -390.05049082367395\n",
      "Species: du\n",
      "(5712855, 4) (5712855, 4)\n"
     ]
    },
    {
     "name": "stderr",
     "output_type": "stream",
     "text": [
      "/tmp/ipykernel_143632/2677372601.py:34: FutureWarning: You are using `torch.load` with `weights_only=False` (the current default value), which uses the default pickle module implicitly. It is possible to construct malicious pickle data which will execute arbitrary code during unpickling (See https://github.com/pytorch/pytorch/blob/main/SECURITY.md#untrusted-models for more details). In a future release, the default value for `weights_only` will be flipped to `True`. This limits the functions that could be executed during unpickling. Arbitrary objects will no longer be allowed to be loaded via this mode unless they are explicitly allowlisted by the user via `torch.serialization.add_safe_globals`. We recommend you start setting `weights_only=True` for any use case where you don't have full control of the loaded file. Please open an issue on GitHub for any issues related to this experimental feature.\n",
      "  model.load_state_dict(torch.load('./models/' + args.model_id + '.pth') ['state_dict'])\n"
     ]
    },
    {
     "name": "stdout",
     "output_type": "stream",
     "text": [
      "Species: du | MSE relative: 0.01829193106793996\n",
      "Species: du | R2 relative: 0.6590220239605113\n",
      "Species: du | MSE absolute: 0.002282361637267535\n",
      "Species: du | R2 absolute: 0.9972450902731531\n",
      "Species: du | R2 absolute tendencies: -2938.9842703934355\n"
     ]
    }
   ],
   "source": [
    "for species, indices in species_indices.items():\n",
    "    print(f\"Species: {species}\")\n",
    "    ### TRAIN ###\n",
    "    # Fetch the arrays using globals()\n",
    "    x_train_species = globals().get(f'x_train_{species}_relative', None)\n",
    "    y_train_species = globals().get(f'y_train_{species}_relative', None)\n",
    "\n",
    "    x_valid_species = globals().get(f'x_valid_{species}_relative', None)\n",
    "    y_valid_species = globals().get(f'y_valid_{species}_relative', None)\n",
    "\n",
    "    print(x_train_species.shape, x_train_species.shape)\n",
    "\n",
    "    input_dim = x_train_species.shape[1]\n",
    "    output_dim = y_train_species.shape[1]\n",
    "\n",
    "    ### ARGS ###\n",
    "    args = add_nn_arguments_jupyter()\n",
    "    # Overwrite the model name, keep everything else the same\n",
    "    # Have one model for now as each input dim can be different\n",
    "    args.model = 'softmax_model'\n",
    "    args.model_id = 'softmax_' + species # save different models\n",
    "    # Run for only 3 epochs for proof of concept\n",
    "    # Took around 2 mins per epoch\n",
    "    args.epochs = 3 \n",
    "\n",
    "    ### LOAD trained model ###\n",
    "    # Initalize model\n",
    "    model = get_model(\n",
    "        in_features = input_dim, \n",
    "        out_features = output_dim, \n",
    "        args = args, \n",
    "        constraints_active = True)# KB: constraints_active = True This is not used for the softmax model\n",
    "\n",
    "    model.load_state_dict(torch.load('./models/' + args.model_id + '.pth') ['state_dict'])\n",
    "    model.to(device)\n",
    "    # Evaluate\n",
    "    model.eval()\n",
    "\n",
    "    # Fetch the test arrays using globals()\n",
    "    x_test_species = globals().get(f'x_test_{species}_relative', None)\n",
    "    y_test_species = globals().get(f'y_test_{species}_relative', None)\n",
    "\n",
    "    x_test_species_absolute = globals().get(f'x_test_{species}_absolute', None)\n",
    "    y_test_species_absolute = globals().get(f'y_test_{species}_absolute', None)\n",
    "\n",
    "    y_test_species_absolute_tendencies = y_test_species_absolute - x_test_species_absolute\n",
    "\n",
    "    # Relative prediction on test\n",
    "    y_test_species_relative_PRED = model(torch.tensor(x_test_species).to(device).float())\n",
    "    # Absolue Prediction. Project back using sums from x_test (not y_test itself)\n",
    "    y_test_species_absolute_PRED = y_test_species_relative_PRED.detach().cpu().numpy() * x_test_species_absolute.sum(axis = 1)[..., np.newaxis]\n",
    "\n",
    "    # Absolute tendencies: We can use x_test as it is provided\n",
    "    y_test_species_absolute_tendencies_PRED = y_test_species_absolute_PRED - x_test_species_absolute\n",
    "\n",
    "    # sklearn function, same as np.square(relative_error).mean()\n",
    "    # relative is implicit in naming\n",
    "    MSE_rel = mean_squared_error(y_test_species, y_test_species_relative_PRED.detach().cpu().numpy())\n",
    "    R2_rel = r2_score(y_test_species, y_test_species_relative_PRED.detach().cpu().numpy())\n",
    "    print(f'Species: {species} | MSE relative:', MSE_rel)\n",
    "    print(f'Species: {species} | R2 relative:', R2_rel)\n",
    "\n",
    "    # true, pred\n",
    "    MSE_abs = mean_squared_error(y_test_species_absolute, y_test_species_absolute_PRED)\n",
    "    R2_abs = r2_score(y_test_species_absolute, y_test_species_absolute_PRED)\n",
    "    R2_abs_tend = r2_score(y_test_species_absolute_tendencies, y_test_species_absolute_tendencies_PRED)\n",
    "    print(f'Species: {species} | MSE absolute:', MSE_abs)\n",
    "    print(f'Species: {species} | R2 absolute:', R2_abs)\n",
    "    print(f'Species: {species} | R2 absolute tendencies:', R2_abs_tend)"
   ]
  },
  {
   "cell_type": "code",
   "execution_count": null,
   "metadata": {},
   "outputs": [
    {
     "data": {
      "image/png": "[encoded data removed]",
      "text/plain": [
       "<Figure size 640x480 with 1 Axes>"
      ]
     },
     "metadata": {},
     "output_type": "display_data"
    },
    {
     "ename": "",
     "evalue": "",
     "output_type": "error",
     "traceback": [
      "\u001b[1;31mThe Kernel crashed while executing code in the current cell or a previous cell. \n",
      "\u001b[1;31mPlease review the code in the cell(s) to identify a possible cause of the failure. \n",
      "\u001b[1;31mClick <a href='https://aka.ms/vscodeJupyterKernelCrash'>here</a> for more info. \n",
      "\u001b[1;31mView Jupyter <a href='command:jupyter.viewOutput'>log</a> for further details."
     ]
    }
   ],
   "source": [
    "import matplotlib.pyplot as plt\n",
    "\n",
    "plt.scatter(y_test_species_absolute_tendencies[0: 20000], y_test_species_absolute_tendencies_PRED[0: 20000], alpha=0.5)\n",
    "plt.xlabel(\"True Values\")\n",
    "plt.ylabel(\"Predicted Values\")\n",
    "plt.title(f\"True vs. Predicted for {species}\")\n",
    "# plt.axline((0,0), slope=1, color=\"red\", linestyle = \"--\")  # y = x reference line\n",
    "plt.show()"
   ]
  },
  {
   "cell_type": "code",
   "execution_count": 152,
   "metadata": {},
   "outputs": [
    {
     "data": {
      "text/plain": [
       "array([[-0.0014, -0.0002, -1.7000, 1.7015, 0.0001],\n",
       "       [-0.0014, -0.0002, -1.7001, 1.7016, 0.0001],\n",
       "       [-0.0014, -0.0002, -1.7001, 1.7017, 0.0001],\n",
       "       ...,\n",
       "       [0.0000, -887.1405, 554.0411, 331.4264, 1.6730],\n",
       "       [0.0000, -885.6789, 553.1127, 330.8951, 1.6710],\n",
       "       [-0.0000, -884.1473, 552.1341, 330.3441, 1.6690]])"
      ]
     },
     "execution_count": 152,
     "metadata": {},
     "output_type": "execute_result"
    }
   ],
   "source": [
    "y_test_species_absolute - x_test_species_absolute"
   ]
  },
  {
   "cell_type": "code",
   "execution_count": 154,
   "metadata": {},
   "outputs": [
    {
     "data": {
      "text/plain": [
       "-53.388559072767656"
      ]
     },
     "execution_count": 154,
     "metadata": {},
     "output_type": "execute_result"
    }
   ],
   "source": [
    "y_test_species_absolute_PRED - x_test_species_absolute\n",
    "\n",
    "r2_score(y_test_species_absolute - x_test_species_absolute, y_test_species_absolute_PRED - x_test_species_absolute)"
   ]
  },
  {
   "cell_type": "code",
   "execution_count": 150,
   "metadata": {},
   "outputs": [
    {
     "data": {
      "text/plain": [
       "array([[2.2251, 3.5495, 829749.9519, 7722765.8721, 322.8686],\n",
       "       [2.2252, 3.5496, 829774.2408, 7722991.9370, 322.8780],\n",
       "       [2.2253, 3.5497, 829799.4639, 7723226.6966, 322.8878],\n",
       "       ...,\n",
       "       [0.0000, 304958.5886, 32981163.9639, 5754415.1765, 2549595.1439],\n",
       "       [0.0000, 304702.6330, 32945457.6955, 5748017.4590, 2546750.5425],\n",
       "       [0.0000, 304436.6437, 32908581.3765, 5741462.6129, 2543953.2312]])"
      ]
     },
     "execution_count": 150,
     "metadata": {},
     "output_type": "execute_result"
    }
   ],
   "source": [
    "x_test_species_absolute"
   ]
  },
  {
   "cell_type": "code",
   "execution_count": 146,
   "metadata": {},
   "outputs": [
    {
     "data": {
      "text/plain": [
       "array([[0.0001, 0.0000, 0.0000, 0.0000],\n",
       "       [0.0001, 0.0000, 0.0000, 0.0000],\n",
       "       [0.0001, 0.0000, 0.0000, 0.0000],\n",
       "       ...,\n",
       "       [0.0003, 0.0029, 0.0000, 0.0000],\n",
       "       [0.0003, 0.0029, 0.0000, 0.0000],\n",
       "       [0.0003, 0.0029, 0.0000, 0.0000]])"
      ]
     },
     "execution_count": 146,
     "metadata": {},
     "output_type": "execute_result"
    }
   ],
   "source": [
    "x_test_species_absolute"
   ]
  },
  {
   "cell_type": "code",
   "execution_count": 140,
   "metadata": {},
   "outputs": [
    {
     "data": {
      "text/plain": [
       "0.9455499999999999"
      ]
     },
     "execution_count": 140,
     "metadata": {},
     "output_type": "execute_result"
    }
   ],
   "source": [
    "np.mean([0.9972, 0.963, 0.973, 0.849])"
   ]
  },
  {
   "cell_type": "code",
   "execution_count": 117,
   "metadata": {},
   "outputs": [
    {
     "name": "stdout",
     "output_type": "stream",
     "text": [
      "(5713910, 5) (2856955, 5)\n"
     ]
    }
   ],
   "source": [
    "print(x_train_so4_relative.shape, y_valid_so4_relative.shape)\n",
    "# For the original it is (5713910, 28) (2856955, 28)\n",
    "    \n",
    "train_data_so4 = create_dataloader(x_train_so4_relative, y_train_so4_relative, args)\n",
    "# validation data\n",
    "val_data_so4 = create_test_dataloader(x_valid_so4_relative, y_valid_so4_relative, args)\n",
    "\n",
    "input_dim = x_train_so4_relative.shape[1]\n",
    "output_dim = y_train_so4_relative.shape[1]"
   ]
  },
  {
   "cell_type": "markdown",
   "metadata": {},
   "source": [
    "# Simplified version with no conditioning\n",
    "\n",
    "- because we don't know what the additional variables are"
   ]
  },
  {
   "cell_type": "code",
   "execution_count": null,
   "metadata": {},
   "outputs": [
    {
     "name": "stdout",
     "output_type": "stream",
     "text": [
      "Namespace(mode='train', signs=False, scale='z', model='softmax_model', model_id='standard_test', log=False, lr=0.001, width=128, depth=2, loss='mse', optimizer='adam', weight_decay=1e-09, batch_size=256, epochs=100, early_stop=False, save_val_scores=False, old_data=False)\n",
      "Namespace(mode='train', signs=False, scale='z', model='softmax_model', model_id='standard_test', log=False, lr=0.001, width=128, depth=2, loss='mse', optimizer='adam', weight_decay=1e-09, batch_size=256, epochs=3, early_stop=False, save_val_scores=False, old_data=False)\n"
     ]
    }
   ],
   "source": [
    "print(args)\n",
    "\n",
    "# Overwrite the model name, keep everything else the same\n",
    "# Have one model for now as each input dim can be different\n",
    "args.model = 'softmax_model'\n",
    "args.model_id = 'softmax_test' # why not train\n",
    "# Run for only 3 epochs for proof of concept\n",
    "# Took around 2 mins per epoch\n",
    "args.epochs = 3 \n",
    "\n",
    "print(args)"
   ]
  },
  {
   "cell_type": "code",
   "execution_count": 19,
   "metadata": {},
   "outputs": [
    {
     "name": "stdout",
     "output_type": "stream",
     "text": [
      "GPU available: True\n",
      "Epoch 1, Train Loss: 0.00014\n",
      "Epoch 1, Val Loss: 0.00002\n",
      "Epoch 2, Train Loss: 0.00002\n",
      "Epoch 2, Val Loss: 0.00002\n",
      "Epoch 3, Train Loss: 0.00002\n",
      "Epoch 3, Val Loss: 0.00002\n"
     ]
    }
   ],
   "source": [
    "model = get_model(\n",
    "    in_features = input_dim, \n",
    "    out_features = output_dim, \n",
    "    args = args, \n",
    "    constraints_active = False)\n",
    "\n",
    "if args.mode == 'train':\n",
    "        \n",
    "    optimizer = optim.Adam(\n",
    "            model.parameters(), \n",
    "            lr = args.lr, \n",
    "            weight_decay = args.weight_decay)\n",
    "\n",
    "    train_model(\n",
    "            model = model, \n",
    "            train_data = train_data_so4, \n",
    "            test_data = val_data_so4, # validation\n",
    "            optimizer = optimizer, \n",
    "            input_dim = input_dim, \n",
    "            output_dim = output_dim, \n",
    "            stats = stats, \n",
    "            X_test = X_test, \n",
    "            y_test = y_test, \n",
    "            args = args)\n",
    "\n",
    "# prints an MSE in relative space"
   ]
  },
  {
   "cell_type": "markdown",
   "metadata": {},
   "source": [
    "# After training"
   ]
  },
  {
   "cell_type": "code",
   "execution_count": 57,
   "metadata": {},
   "outputs": [
    {
     "name": "stderr",
     "output_type": "stream",
     "text": [
      "/tmp/ipykernel_143632/666518117.py:8: FutureWarning: You are using `torch.load` with `weights_only=False` (the current default value), which uses the default pickle module implicitly. It is possible to construct malicious pickle data which will execute arbitrary code during unpickling (See https://github.com/pytorch/pytorch/blob/main/SECURITY.md#untrusted-models for more details). In a future release, the default value for `weights_only` will be flipped to `True`. This limits the functions that could be executed during unpickling. Arbitrary objects will no longer be allowed to be loaded via this mode unless they are explicitly allowlisted by the user via `torch.serialization.add_safe_globals`. We recommend you start setting `weights_only=True` for any use case where you don't have full control of the loaded file. Please open an issue on GitHub for any issues related to this experimental feature.\n",
      "  model.load_state_dict(torch.load('./models/' + args.model_id + '.pth') ['state_dict'])\n"
     ]
    },
    {
     "name": "stdout",
     "output_type": "stream",
     "text": [
      "MSE relative: 1.78921866465961e-05\n",
      "MSE absolute: 19178658378338.836\n",
      "R2 absolute: 0.8855318965675775\n"
     ]
    }
   ],
   "source": [
    "device = torch.device(\"cuda:0\" if torch.cuda.is_available() else \"cpu\")\n",
    "np.set_printoptions(precision = 6, suppress = True, formatter = {'all': lambda x: f'{x:.6f}'})\n",
    "\n",
    "model = get_model(\n",
    "    in_features = input_dim, out_features = output_dim, args = args, constraints_active = True\n",
    "    # KB: constraints_active = True This is not used for the softmax model\n",
    "    ) \n",
    "model.load_state_dict(torch.load('./models/' + args.model_id + '.pth') ['state_dict'])\n",
    "model.to(device)\n",
    "model.eval()\n",
    "# create_report(model, x_test_so4_relative, y_test_so4_relative, stats, args)\n",
    "\n",
    "y_test_so4_relative_PRED = model(torch.tensor(x_test_so4_relative).to(device).float())\n",
    "\n",
    "# Absolute error. Project back using sums from x_test (not y_test itself)\n",
    "y_test_so4_absolute_PRED = y_test_so4_relative_PRED.detach().cpu().numpy() * X_test_24[:, so4_indices].sum(axis = 1)[..., np.newaxis]\n",
    "\n",
    "# sklearn function, same as np.square(relative_error).mean()\n",
    "# with relative_error = (y_test_so4_relative - y_test_so4_relative_PRED.detach().cpu().numpy())\n",
    "MSE_rel = mean_squared_error(y_test_so4_relative, y_test_so4_relative_PRED.detach().cpu().numpy())\n",
    "print('MSE relative:', MSE_rel)\n",
    "\n",
    "MSE_abs = mean_squared_error(y_test_so4_absolute_PRED, y_test_so4_absolute)\n",
    "R2_abs = r2_score(y_test_so4_absolute_PRED, y_test_so4_absolute)\n",
    "print('MSE absolute:', MSE_abs)\n",
    "print('R2 absolute:', R2_abs)"
   ]
  },
  {
   "cell_type": "code",
   "execution_count": 54,
   "metadata": {},
   "outputs": [
    {
     "name": "stdout",
     "output_type": "stream",
     "text": [
      "[0.000209 0.000180 0.095894 0.903096 0.000621]\n",
      "tensor([2.0861e-04, 1.8009e-04, 9.5894e-02, 9.0310e-01, 6.2118e-04],\n",
      "       device='cuda:0', grad_fn=<SelectBackward0>)\n"
     ]
    }
   ],
   "source": [
    "print(y_test_so4_absolute_PRED[0])\n",
    "print(y_test_so4_relative_PRED[0])"
   ]
  },
  {
   "cell_type": "code",
   "execution_count": null,
   "metadata": {},
   "outputs": [
    {
     "data": {
      "text/plain": [
       "(5713910, 1)"
      ]
     },
     "execution_count": 56,
     "metadata": {},
     "output_type": "execute_result"
    }
   ],
   "source": [
    "X_train_24[:, so4_indices].sum(axis = 1)[..., np.newaxis]"
   ]
  },
  {
   "cell_type": "code",
   "execution_count": 52,
   "metadata": {},
   "outputs": [
    {
     "data": {
      "text/plain": [
       "array([2.223691, 3.549291, 829748.251939, 7722767.573677, 322.868651])"
      ]
     },
     "execution_count": 52,
     "metadata": {},
     "output_type": "execute_result"
    }
   ],
   "source": [
    "y_test_so4_absolute[0]"
   ]
  },
  {
   "cell_type": "code",
   "execution_count": 45,
   "metadata": {},
   "outputs": [
    {
     "data": {
      "text/plain": [
       "1.789218664659599e-05"
      ]
     },
     "execution_count": 45,
     "metadata": {},
     "output_type": "execute_result"
    }
   ],
   "source": [
    "np.square(relative_error).mean()"
   ]
  }
 ],
 "metadata": {
  "kernelspec": {
   "display_name": "aero",
   "language": "python",
   "name": "python3"
  },
  "language_info": {
   "codemirror_mode": {
    "name": "ipython",
    "version": 3
   },
   "file_extension": ".py",
   "mimetype": "text/x-python",
   "name": "python",
   "nbconvert_exporter": "python",
   "pygments_lexer": "ipython3",
   "version": "3.10.16"
  }
 },
 "nbformat": 4,
 "nbformat_minor": 2
}
